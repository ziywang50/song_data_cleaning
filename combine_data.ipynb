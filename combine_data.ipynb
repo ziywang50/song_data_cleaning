{
 "cells": [
  {
   "cell_type": "code",
   "execution_count": 135,
   "id": "39351271-1a66-44a4-8905-2cd81df0db1a",
   "metadata": {},
   "outputs": [],
   "source": [
    "import pandas as pd"
   ]
  },
  {
   "cell_type": "code",
   "execution_count": 136,
   "id": "afc6a94f-f48d-46b8-8a07-4639b702b3de",
   "metadata": {},
   "outputs": [],
   "source": [
    "first = pd.read_csv(\"output/data/song_ids_0.csv\")\n",
    "second = pd.read_csv(\"output/data/song_ids_1.csv\")\n",
    "third = pd.read_csv(\"output/data/song_ids_2.csv\")\n",
    "fourth = pd.read_csv(\"output/data/song_ids_3.csv\")\n",
    "fifth = pd.read_csv(\"output/data/song_ids_4.csv\")\n",
    "sixth = pd.read_csv(\"output/data/song_ids_5.csv\")"
   ]
  },
  {
   "cell_type": "code",
   "execution_count": 137,
   "id": "cbca2d38-57ca-4e83-b740-d6ac2a783b5d",
   "metadata": {},
   "outputs": [],
   "source": [
    "song_data = pd.read_csv(\"C:/Users/ziyue/song/data/Spotify Million Song Dataset_exported.csv\")"
   ]
  },
  {
   "cell_type": "code",
   "execution_count": 138,
   "id": "46b1fec6-43c2-471a-b3d0-a0c8f7eaac2c",
   "metadata": {},
   "outputs": [
    {
     "data": {
      "text/html": [
       "<div>\n",
       "<style scoped>\n",
       "    .dataframe tbody tr th:only-of-type {\n",
       "        vertical-align: middle;\n",
       "    }\n",
       "\n",
       "    .dataframe tbody tr th {\n",
       "        vertical-align: top;\n",
       "    }\n",
       "\n",
       "    .dataframe thead th {\n",
       "        text-align: right;\n",
       "    }\n",
       "</style>\n",
       "<table border=\"1\" class=\"dataframe\">\n",
       "  <thead>\n",
       "    <tr style=\"text-align: right;\">\n",
       "      <th></th>\n",
       "      <th>artist</th>\n",
       "      <th>song</th>\n",
       "      <th>link</th>\n",
       "      <th>text</th>\n",
       "      <th>explicit</th>\n",
       "      <th>id</th>\n",
       "    </tr>\n",
       "  </thead>\n",
       "  <tbody>\n",
       "    <tr>\n",
       "      <th>57645</th>\n",
       "      <td>Ziggy Marley</td>\n",
       "      <td>Good Old Days</td>\n",
       "      <td>/z/ziggy+marley/good+old+days_10198588.html</td>\n",
       "      <td>Irie days come on play  \\nLet the angels fly l...</td>\n",
       "      <td>NaN</td>\n",
       "      <td>NaN</td>\n",
       "    </tr>\n",
       "    <tr>\n",
       "      <th>57646</th>\n",
       "      <td>Ziggy Marley</td>\n",
       "      <td>Hand To Mouth</td>\n",
       "      <td>/z/ziggy+marley/hand+to+mouth_20531167.html</td>\n",
       "      <td>Power to the workers  \\nMore power  \\nPower to...</td>\n",
       "      <td>NaN</td>\n",
       "      <td>NaN</td>\n",
       "    </tr>\n",
       "    <tr>\n",
       "      <th>57647</th>\n",
       "      <td>Zwan</td>\n",
       "      <td>Come With Me</td>\n",
       "      <td>/z/zwan/come+with+me_20148981.html</td>\n",
       "      <td>all you need  \\nis something i'll believe  \\nf...</td>\n",
       "      <td>NaN</td>\n",
       "      <td>NaN</td>\n",
       "    </tr>\n",
       "    <tr>\n",
       "      <th>57648</th>\n",
       "      <td>Zwan</td>\n",
       "      <td>Desire</td>\n",
       "      <td>/z/zwan/desire_20148986.html</td>\n",
       "      <td>northern star  \\nam i frightened  \\nwhere can ...</td>\n",
       "      <td>NaN</td>\n",
       "      <td>NaN</td>\n",
       "    </tr>\n",
       "    <tr>\n",
       "      <th>57649</th>\n",
       "      <td>Zwan</td>\n",
       "      <td>Heartsong</td>\n",
       "      <td>/z/zwan/heartsong_20148991.html</td>\n",
       "      <td>come in  \\nmake yourself at home  \\ni'm a bit ...</td>\n",
       "      <td>NaN</td>\n",
       "      <td>NaN</td>\n",
       "    </tr>\n",
       "  </tbody>\n",
       "</table>\n",
       "</div>"
      ],
      "text/plain": [
       "             artist           song  \\\n",
       "57645  Ziggy Marley  Good Old Days   \n",
       "57646  Ziggy Marley  Hand To Mouth   \n",
       "57647          Zwan   Come With Me   \n",
       "57648          Zwan         Desire   \n",
       "57649          Zwan      Heartsong   \n",
       "\n",
       "                                              link  \\\n",
       "57645  /z/ziggy+marley/good+old+days_10198588.html   \n",
       "57646  /z/ziggy+marley/hand+to+mouth_20531167.html   \n",
       "57647           /z/zwan/come+with+me_20148981.html   \n",
       "57648                 /z/zwan/desire_20148986.html   \n",
       "57649              /z/zwan/heartsong_20148991.html   \n",
       "\n",
       "                                                    text explicit   id  \n",
       "57645  Irie days come on play  \\nLet the angels fly l...      NaN  NaN  \n",
       "57646  Power to the workers  \\nMore power  \\nPower to...      NaN  NaN  \n",
       "57647  all you need  \\nis something i'll believe  \\nf...      NaN  NaN  \n",
       "57648  northern star  \\nam i frightened  \\nwhere can ...      NaN  NaN  \n",
       "57649  come in  \\nmake yourself at home  \\ni'm a bit ...      NaN  NaN  "
      ]
     },
     "execution_count": 138,
     "metadata": {},
     "output_type": "execute_result"
    }
   ],
   "source": [
    "first.tail()"
   ]
  },
  {
   "cell_type": "code",
   "execution_count": 139,
   "id": "0b98604b-a634-4cf4-8bb3-3e196dd222a5",
   "metadata": {},
   "outputs": [
    {
     "data": {
      "text/html": [
       "<div>\n",
       "<style scoped>\n",
       "    .dataframe tbody tr th:only-of-type {\n",
       "        vertical-align: middle;\n",
       "    }\n",
       "\n",
       "    .dataframe tbody tr th {\n",
       "        vertical-align: top;\n",
       "    }\n",
       "\n",
       "    .dataframe thead th {\n",
       "        text-align: right;\n",
       "    }\n",
       "</style>\n",
       "<table border=\"1\" class=\"dataframe\">\n",
       "  <thead>\n",
       "    <tr style=\"text-align: right;\">\n",
       "      <th></th>\n",
       "      <th>artist</th>\n",
       "      <th>song</th>\n",
       "      <th>link</th>\n",
       "      <th>text</th>\n",
       "      <th>explicit</th>\n",
       "      <th>id</th>\n",
       "    </tr>\n",
       "  </thead>\n",
       "  <tbody>\n",
       "    <tr>\n",
       "      <th>0</th>\n",
       "      <td>ABBA</td>\n",
       "      <td>Ahe's My Kind Of Girl</td>\n",
       "      <td>/a/abba/ahes+my+kind+of+girl_20598417.html</td>\n",
       "      <td>Look at her face, it's a wonderful face  \\nAnd...</td>\n",
       "      <td>NoMatchingLabel</td>\n",
       "      <td>NoMatchingId</td>\n",
       "    </tr>\n",
       "    <tr>\n",
       "      <th>1</th>\n",
       "      <td>ABBA</td>\n",
       "      <td>Andante, Andante</td>\n",
       "      <td>/a/abba/andante+andante_20002708.html</td>\n",
       "      <td>Take it easy with me, please  \\nTouch me gentl...</td>\n",
       "      <td>False</td>\n",
       "      <td>1JnHZagDFvrT2lx4QovSOo</td>\n",
       "    </tr>\n",
       "    <tr>\n",
       "      <th>2</th>\n",
       "      <td>ABBA</td>\n",
       "      <td>As Good As New</td>\n",
       "      <td>/a/abba/as+good+as+new_20003033.html</td>\n",
       "      <td>I'll never know why I had to go  \\nWhy I had t...</td>\n",
       "      <td>False</td>\n",
       "      <td>71or1G6CbfIttRDnBnTTAL</td>\n",
       "    </tr>\n",
       "    <tr>\n",
       "      <th>3</th>\n",
       "      <td>ABBA</td>\n",
       "      <td>Bang</td>\n",
       "      <td>/a/abba/bang_20598415.html</td>\n",
       "      <td>Making somebody happy is a question of give an...</td>\n",
       "      <td>False</td>\n",
       "      <td>5jfZEsdQMAaoeDLib5rLu4</td>\n",
       "    </tr>\n",
       "    <tr>\n",
       "      <th>4</th>\n",
       "      <td>ABBA</td>\n",
       "      <td>Bang-A-Boomerang</td>\n",
       "      <td>/a/abba/bang+a+boomerang_20002668.html</td>\n",
       "      <td>Making somebody happy is a question of give an...</td>\n",
       "      <td>False</td>\n",
       "      <td>5jfZEsdQMAaoeDLib5rLu4</td>\n",
       "    </tr>\n",
       "  </tbody>\n",
       "</table>\n",
       "</div>"
      ],
      "text/plain": [
       "  artist                   song                                        link  \\\n",
       "0   ABBA  Ahe's My Kind Of Girl  /a/abba/ahes+my+kind+of+girl_20598417.html   \n",
       "1   ABBA       Andante, Andante       /a/abba/andante+andante_20002708.html   \n",
       "2   ABBA         As Good As New        /a/abba/as+good+as+new_20003033.html   \n",
       "3   ABBA                   Bang                  /a/abba/bang_20598415.html   \n",
       "4   ABBA       Bang-A-Boomerang      /a/abba/bang+a+boomerang_20002668.html   \n",
       "\n",
       "                                                text         explicit  \\\n",
       "0  Look at her face, it's a wonderful face  \\nAnd...  NoMatchingLabel   \n",
       "1  Take it easy with me, please  \\nTouch me gentl...            False   \n",
       "2  I'll never know why I had to go  \\nWhy I had t...            False   \n",
       "3  Making somebody happy is a question of give an...            False   \n",
       "4  Making somebody happy is a question of give an...            False   \n",
       "\n",
       "                       id  \n",
       "0            NoMatchingId  \n",
       "1  1JnHZagDFvrT2lx4QovSOo  \n",
       "2  71or1G6CbfIttRDnBnTTAL  \n",
       "3  5jfZEsdQMAaoeDLib5rLu4  \n",
       "4  5jfZEsdQMAaoeDLib5rLu4  "
      ]
     },
     "execution_count": 139,
     "metadata": {},
     "output_type": "execute_result"
    }
   ],
   "source": [
    "first.head()"
   ]
  },
  {
   "cell_type": "code",
   "execution_count": 140,
   "id": "fc1a5677-d006-42bf-81f7-e05662b17d8b",
   "metadata": {},
   "outputs": [],
   "source": [
    "id_first, explicit_first = first['id'].iloc[0:10000], first['explicit'].iloc[0:10000]\n",
    "id_second, explicit_second = second['id'].iloc[0:10000], second['explicit'].iloc[0:10000]\n",
    "id_third, explicit_third = third['id'].iloc[2:10002], third['explicit'].iloc[2:10002]\n",
    "id_fourth, explicit_fourth = fourth['id'].iloc[3:10003], fourth['explicit'].iloc[3:10003]\n",
    "id_fifth, explicit_fifth = fifth['id'].iloc[4:10004], fifth['explicit'].iloc[4:10004]\n",
    "id_sixth, explicit_sixth = sixth['id'].iloc[5:7655], sixth['explicit'].iloc[5:7655]"
   ]
  },
  {
   "cell_type": "code",
   "execution_count": 141,
   "id": "3f477375-2191-4db3-a828-ba113528a926",
   "metadata": {},
   "outputs": [
    {
     "data": {
      "text/plain": [
       "9998     5KkyH2p317NhEJNYZbX84p\n",
       "9999     4eLKrlEZmB0MnwvGsQttkR\n",
       "10000    6hYeUJoKaA7zY1BChLQYt0\n",
       "10001    6s8s3Nf5KkNEWlyrSj3bPk\n",
       "10002              NoMatchingId\n",
       "Name: id, dtype: object"
      ]
     },
     "execution_count": 141,
     "metadata": {},
     "output_type": "execute_result"
    }
   ],
   "source": [
    "id_fourth.tail()"
   ]
  },
  {
   "cell_type": "code",
   "execution_count": 142,
   "id": "5ea493a5-ad1c-439a-b256-d421681932ae",
   "metadata": {},
   "outputs": [
    {
     "data": {
      "text/plain": [
       "4              NoMatchingId\n",
       "5    7MzOnWNvBt5oi6lAgRW0jr\n",
       "6    52fAmM5sW9Ic2FxMgiu90r\n",
       "7              NoMatchingId\n",
       "8    4TJZK0U11bAsXpB3RAuEGD\n",
       "Name: id, dtype: object"
      ]
     },
     "execution_count": 142,
     "metadata": {},
     "output_type": "execute_result"
    }
   ],
   "source": [
    "id_fifth.head()"
   ]
  },
  {
   "cell_type": "code",
   "execution_count": 143,
   "id": "cb4dd737-c114-4869-a0c2-f9d7331ce330",
   "metadata": {},
   "outputs": [
    {
     "data": {
      "text/plain": [
       "9999     0GhChW6eDQ6vE5vfgFcvUW\n",
       "10000    37rNNZMnvYMSBwh6nketzM\n",
       "10001              NoMatchingId\n",
       "10002    1eKnAPx09ihdkhAjMt5wDy\n",
       "10003    4lahrMXcQbQNjvmJyPbuLW\n",
       "Name: id, dtype: object"
      ]
     },
     "execution_count": 143,
     "metadata": {},
     "output_type": "execute_result"
    }
   ],
   "source": [
    "id_fifth.tail()"
   ]
  },
  {
   "cell_type": "code",
   "execution_count": 144,
   "id": "f3378ed9-f047-4391-a711-f4007bb5ab04",
   "metadata": {
    "scrolled": true
   },
   "outputs": [
    {
     "data": {
      "text/plain": [
       "id\n",
       "NoMatchingId              2870\n",
       "3EvyKykUdlWdYyUOItgYOA       3\n",
       "4MrfQL4TYQXJBlZYpAHTuE       3\n",
       "0vhUTGWAGqyQGez2gSWeyZ       2\n",
       "77mn635jGmcnToalQNP8Bj       2\n",
       "                          ... \n",
       "3tw7RtgcB2E9lofmRdZLAx       1\n",
       "4jIJsc24BqqkS3rXPny9GY       1\n",
       "5lnnBCTFXgjP2Px2SG5oYZ       1\n",
       "3NInJlfnLUHYSParptiJIS       1\n",
       "190jyVPHYjAqEaOGmMzdyk       1\n",
       "Name: count, Length: 7075, dtype: int64"
      ]
     },
     "metadata": {},
     "output_type": "display_data"
    },
    {
     "data": {
      "text/plain": [
       "id\n",
       "NoMatchingId              2924\n",
       "2nipJCbb5YPcOQdEa10nM1       3\n",
       "182zrWX8iB06IjI6JPfLVm       3\n",
       "74eMvoEvuumeBXvqKmxOtG       3\n",
       "7eAiYo9m6fanyAwpFG6kYp       2\n",
       "                          ... \n",
       "1x9HoaN2rqMdjMMCUfy74w       1\n",
       "40JCFtzBASUz6EPneQTVRG       1\n",
       "5VGNeSP21tFFgmPfTsX9TP       1\n",
       "5jZdwHVtrvXQf4J7sYizXt       1\n",
       "29LebKCIqMPjNnCjeBknAc       1\n",
       "Name: count, Length: 6992, dtype: int64"
      ]
     },
     "metadata": {},
     "output_type": "display_data"
    },
    {
     "data": {
      "text/plain": [
       "id\n",
       "NoMatchingId              2875\n",
       "70XtWbcVZcpaOddJftMcVi       3\n",
       "1xg1yGPy1Y3YUf44s6TB1o       2\n",
       "7zQsvlqyFR7oYKtxEZfUHS       2\n",
       "5MSC1blxmqpS2PZ6YVN1GB       2\n",
       "                          ... \n",
       "2eHx79SXoTZh2WXOqS0m9D       1\n",
       "0NebTzcVKniVSETvarqRw6       1\n",
       "0RSqTXrWtSauwl7KfCdeBg       1\n",
       "7eXVUap6M13npgsz7KmaWk       1\n",
       "6yjwBbMclTVkojsbf6HEk1       1\n",
       "Name: count, Length: 7060, dtype: int64"
      ]
     },
     "metadata": {},
     "output_type": "display_data"
    },
    {
     "data": {
      "text/plain": [
       "id\n",
       "NoMatchingId              2824\n",
       "4n8MEk1K5o1vVvOUqDjCnC       3\n",
       "3BzfkAB5qE3BNiVsdA35nu       2\n",
       "6zPshBHmcutr1RmJFXfino       2\n",
       "3uFLSKGZb244HuM1Nu7DPK       2\n",
       "                          ... \n",
       "38g8RFsyGoY4clWugSzZLV       1\n",
       "5OCD554Nm8OV0Su2C4LfV9       1\n",
       "69m46RcZbRiHwpWQQQt1zR       1\n",
       "5GYEtmTfOQpYK7QCTISWAM       1\n",
       "6s8s3Nf5KkNEWlyrSj3bPk       1\n",
       "Name: count, Length: 7101, dtype: int64"
      ]
     },
     "metadata": {},
     "output_type": "display_data"
    },
    {
     "data": {
      "text/plain": [
       "id\n",
       "NoMatchingId              3132\n",
       "1gUoaZkPi7vMZdxMlGsGOw       3\n",
       "2bCQHF9gdG5BNDVuEIEnNk       2\n",
       "7wyVuNCEr1j8NfG1vwMXZp       2\n",
       "4gacG0EFSqvgVXEbPX8gCY       2\n",
       "                          ... \n",
       "0u9ORuO4xOQY5SHxNcvCnV       1\n",
       "2a2le1M7cmvdrg1QHH7H53       1\n",
       "6BW7c1H0hOJ83lcKTbUR47       1\n",
       "0EJ3N6BhFDrUc26xBEpztv       1\n",
       "4lahrMXcQbQNjvmJyPbuLW       1\n",
       "Name: count, Length: 6784, dtype: int64"
      ]
     },
     "metadata": {},
     "output_type": "display_data"
    },
    {
     "data": {
      "text/plain": [
       "id\n",
       "NoMatchingId              1967\n",
       "1GJgoTGiGtQ06yYFHskUh6       3\n",
       "35SRuRfp5BvD1yArmXKNHO       2\n",
       "56sGnfZ08O3KVynavef0KQ       2\n",
       "2zt87TCLaNzCHpdpduJYFB       2\n",
       "                          ... \n",
       "6o8nZVzweaEOLDLOgaogX5       1\n",
       "2bzBI23EJWHjXmGj3xlYaM       1\n",
       "6XUHsYE38CEbYunT983O9G       1\n",
       "3DyDoJibN4Cx2zvvtIVQqE       1\n",
       "2QXqpOwlYx1hXMilSBlUBt       1\n",
       "Name: count, Length: 5649, dtype: int64"
      ]
     },
     "metadata": {},
     "output_type": "display_data"
    },
    {
     "data": {
      "text/plain": [
       "explicit\n",
       "False              6853\n",
       "NoMatchingLabel    2870\n",
       "True                277\n",
       "Name: count, dtype: int64"
      ]
     },
     "metadata": {},
     "output_type": "display_data"
    },
    {
     "data": {
      "text/plain": [
       "explicit\n",
       "False              6691\n",
       "NoMatchingLabel    2924\n",
       "True                385\n",
       "Name: count, dtype: int64"
      ]
     },
     "metadata": {},
     "output_type": "display_data"
    },
    {
     "data": {
      "text/plain": [
       "explicit\n",
       "False              6907\n",
       "NoMatchingLabel    2875\n",
       "True                218\n",
       "Name: count, dtype: int64"
      ]
     },
     "metadata": {},
     "output_type": "display_data"
    },
    {
     "data": {
      "text/plain": [
       "explicit\n",
       "False              6799\n",
       "NoMatchingLabel    2824\n",
       "True                377\n",
       "Name: count, dtype: int64"
      ]
     },
     "metadata": {},
     "output_type": "display_data"
    },
    {
     "data": {
      "text/plain": [
       "explicit\n",
       "False              6458\n",
       "NoMatchingLabel    3132\n",
       "True                410\n",
       "Name: count, dtype: int64"
      ]
     },
     "metadata": {},
     "output_type": "display_data"
    },
    {
     "data": {
      "text/plain": [
       "explicit\n",
       "False              5262\n",
       "NoMatchingLabel    1967\n",
       "True                421\n",
       "Name: count, dtype: int64"
      ]
     },
     "metadata": {},
     "output_type": "display_data"
    }
   ],
   "source": [
    "display(id_first.value_counts())\n",
    "display(id_second.value_counts())\n",
    "display(id_third.value_counts())\n",
    "display(id_fourth.value_counts())\n",
    "display(id_fifth.value_counts())\n",
    "display(id_sixth.value_counts())\n",
    "display(explicit_first.value_counts())\n",
    "display(explicit_second.value_counts())\n",
    "display(explicit_third.value_counts())\n",
    "display(explicit_fourth.value_counts())\n",
    "display(explicit_fifth.value_counts())\n",
    "display(explicit_sixth.value_counts())"
   ]
  },
  {
   "cell_type": "code",
   "execution_count": 145,
   "id": "e9cc40c5-07d2-49e6-8bc1-573b678bf065",
   "metadata": {},
   "outputs": [],
   "source": [
    "id_vec = pd.concat([id_first, id_second, id_third, id_fourth, id_fifth, id_sixth])"
   ]
  },
  {
   "cell_type": "code",
   "execution_count": 146,
   "id": "0f62e1ba-65eb-4ab1-acd9-8b708cc90fe6",
   "metadata": {},
   "outputs": [
    {
     "data": {
      "text/plain": [
       "count            57650\n",
       "unique           40432\n",
       "top       NoMatchingId\n",
       "freq             16592\n",
       "Name: id, dtype: object"
      ]
     },
     "execution_count": 146,
     "metadata": {},
     "output_type": "execute_result"
    }
   ],
   "source": [
    "id_vec.describe()"
   ]
  },
  {
   "cell_type": "code",
   "execution_count": 147,
   "id": "ab0fc8ef-9520-458e-993a-fe676b58c6ba",
   "metadata": {},
   "outputs": [
    {
     "data": {
      "text/plain": [
       "id\n",
       "NoMatchingId              16592\n",
       "4n8MEk1K5o1vVvOUqDjCnC        4\n",
       "77mn635jGmcnToalQNP8Bj        3\n",
       "3xrn9i8zhNZsTtcoWgQEAd        3\n",
       "1GJgoTGiGtQ06yYFHskUh6        3\n",
       "                          ...  \n",
       "1YMTGNLzK7FBGqGF4zNtpd        1\n",
       "2bRcJSITJEzY87U8bq5Qvm        1\n",
       "2BWK9am114SC2Cq5KL2Fbs        1\n",
       "23B87hmvRLV0RBJ2cLVhll        1\n",
       "2QXqpOwlYx1hXMilSBlUBt        1\n",
       "Name: count, Length: 40432, dtype: int64"
      ]
     },
     "execution_count": 147,
     "metadata": {},
     "output_type": "execute_result"
    }
   ],
   "source": [
    "id_vec.value_counts()"
   ]
  },
  {
   "cell_type": "code",
   "execution_count": 148,
   "id": "bb58dc29-02db-41f5-9405-f990090625e6",
   "metadata": {},
   "outputs": [],
   "source": [
    "explicit_vec = pd.concat([explicit_first, explicit_second, explicit_third, explicit_fourth, explicit_fifth, explicit_sixth])"
   ]
  },
  {
   "cell_type": "code",
   "execution_count": 149,
   "id": "13bb9554-a9d9-446e-b2e7-d37cb07bf8cc",
   "metadata": {},
   "outputs": [
    {
     "data": {
      "text/plain": [
       "explicit\n",
       "False              38970\n",
       "NoMatchingLabel    16592\n",
       "True                2088\n",
       "Name: count, dtype: int64"
      ]
     },
     "execution_count": 149,
     "metadata": {},
     "output_type": "execute_result"
    }
   ],
   "source": [
    "explicit_vec.value_counts()"
   ]
  },
  {
   "cell_type": "code",
   "execution_count": 150,
   "id": "df62bc4a-f90e-4ad7-aad5-025bf4c2ac4d",
   "metadata": {},
   "outputs": [
    {
     "data": {
      "text/html": [
       "<div>\n",
       "<style scoped>\n",
       "    .dataframe tbody tr th:only-of-type {\n",
       "        vertical-align: middle;\n",
       "    }\n",
       "\n",
       "    .dataframe tbody tr th {\n",
       "        vertical-align: top;\n",
       "    }\n",
       "\n",
       "    .dataframe thead th {\n",
       "        text-align: right;\n",
       "    }\n",
       "</style>\n",
       "<table border=\"1\" class=\"dataframe\">\n",
       "  <thead>\n",
       "    <tr style=\"text-align: right;\">\n",
       "      <th></th>\n",
       "      <th>artist</th>\n",
       "      <th>song</th>\n",
       "      <th>link</th>\n",
       "      <th>text</th>\n",
       "    </tr>\n",
       "  </thead>\n",
       "  <tbody>\n",
       "    <tr>\n",
       "      <th>0</th>\n",
       "      <td>ABBA</td>\n",
       "      <td>Ahe's My Kind Of Girl</td>\n",
       "      <td>/a/abba/ahes+my+kind+of+girl_20598417.html</td>\n",
       "      <td>Look at her face, it's a wonderful face  \\nAnd...</td>\n",
       "    </tr>\n",
       "    <tr>\n",
       "      <th>1</th>\n",
       "      <td>ABBA</td>\n",
       "      <td>Andante, Andante</td>\n",
       "      <td>/a/abba/andante+andante_20002708.html</td>\n",
       "      <td>Take it easy with me, please  \\nTouch me gentl...</td>\n",
       "    </tr>\n",
       "    <tr>\n",
       "      <th>2</th>\n",
       "      <td>ABBA</td>\n",
       "      <td>As Good As New</td>\n",
       "      <td>/a/abba/as+good+as+new_20003033.html</td>\n",
       "      <td>I'll never know why I had to go  \\nWhy I had t...</td>\n",
       "    </tr>\n",
       "    <tr>\n",
       "      <th>3</th>\n",
       "      <td>ABBA</td>\n",
       "      <td>Bang</td>\n",
       "      <td>/a/abba/bang_20598415.html</td>\n",
       "      <td>Making somebody happy is a question of give an...</td>\n",
       "    </tr>\n",
       "    <tr>\n",
       "      <th>4</th>\n",
       "      <td>ABBA</td>\n",
       "      <td>Bang-A-Boomerang</td>\n",
       "      <td>/a/abba/bang+a+boomerang_20002668.html</td>\n",
       "      <td>Making somebody happy is a question of give an...</td>\n",
       "    </tr>\n",
       "  </tbody>\n",
       "</table>\n",
       "</div>"
      ],
      "text/plain": [
       "  artist                   song                                        link  \\\n",
       "0   ABBA  Ahe's My Kind Of Girl  /a/abba/ahes+my+kind+of+girl_20598417.html   \n",
       "1   ABBA       Andante, Andante       /a/abba/andante+andante_20002708.html   \n",
       "2   ABBA         As Good As New        /a/abba/as+good+as+new_20003033.html   \n",
       "3   ABBA                   Bang                  /a/abba/bang_20598415.html   \n",
       "4   ABBA       Bang-A-Boomerang      /a/abba/bang+a+boomerang_20002668.html   \n",
       "\n",
       "                                                text  \n",
       "0  Look at her face, it's a wonderful face  \\nAnd...  \n",
       "1  Take it easy with me, please  \\nTouch me gentl...  \n",
       "2  I'll never know why I had to go  \\nWhy I had t...  \n",
       "3  Making somebody happy is a question of give an...  \n",
       "4  Making somebody happy is a question of give an...  "
      ]
     },
     "execution_count": 150,
     "metadata": {},
     "output_type": "execute_result"
    }
   ],
   "source": [
    "song_data.head()"
   ]
  },
  {
   "cell_type": "code",
   "execution_count": 151,
   "id": "4b94a1a4-ec96-495a-a7f1-0fe9016f5619",
   "metadata": {},
   "outputs": [],
   "source": [
    "id_series = pd.Series(id_vec)\n",
    "explicit_series = pd.Series(explicit_vec)"
   ]
  },
  {
   "cell_type": "code",
   "execution_count": 152,
   "id": "350d6e79-a5d9-4e06-8ff3-ff77ef78f4e3",
   "metadata": {},
   "outputs": [
    {
     "data": {
      "text/html": [
       "<div>\n",
       "<style scoped>\n",
       "    .dataframe tbody tr th:only-of-type {\n",
       "        vertical-align: middle;\n",
       "    }\n",
       "\n",
       "    .dataframe tbody tr th {\n",
       "        vertical-align: top;\n",
       "    }\n",
       "\n",
       "    .dataframe thead th {\n",
       "        text-align: right;\n",
       "    }\n",
       "</style>\n",
       "<table border=\"1\" class=\"dataframe\">\n",
       "  <thead>\n",
       "    <tr style=\"text-align: right;\">\n",
       "      <th></th>\n",
       "      <th>artist</th>\n",
       "      <th>song</th>\n",
       "      <th>link</th>\n",
       "      <th>text</th>\n",
       "    </tr>\n",
       "  </thead>\n",
       "  <tbody>\n",
       "    <tr>\n",
       "      <th>count</th>\n",
       "      <td>57650</td>\n",
       "      <td>57650</td>\n",
       "      <td>57650</td>\n",
       "      <td>57650</td>\n",
       "    </tr>\n",
       "    <tr>\n",
       "      <th>unique</th>\n",
       "      <td>643</td>\n",
       "      <td>44824</td>\n",
       "      <td>57650</td>\n",
       "      <td>57494</td>\n",
       "    </tr>\n",
       "    <tr>\n",
       "      <th>top</th>\n",
       "      <td>Donna Summer</td>\n",
       "      <td>Have Yourself A Merry Little Christmas</td>\n",
       "      <td>/a/abba/ahes+my+kind+of+girl_20598417.html</td>\n",
       "      <td>I just came back from a lovely trip along the ...</td>\n",
       "    </tr>\n",
       "    <tr>\n",
       "      <th>freq</th>\n",
       "      <td>191</td>\n",
       "      <td>35</td>\n",
       "      <td>1</td>\n",
       "      <td>6</td>\n",
       "    </tr>\n",
       "  </tbody>\n",
       "</table>\n",
       "</div>"
      ],
      "text/plain": [
       "              artist                                    song  \\\n",
       "count          57650                                   57650   \n",
       "unique           643                                   44824   \n",
       "top     Donna Summer  Have Yourself A Merry Little Christmas   \n",
       "freq             191                                      35   \n",
       "\n",
       "                                              link  \\\n",
       "count                                        57650   \n",
       "unique                                       57650   \n",
       "top     /a/abba/ahes+my+kind+of+girl_20598417.html   \n",
       "freq                                             1   \n",
       "\n",
       "                                                     text  \n",
       "count                                               57650  \n",
       "unique                                              57494  \n",
       "top     I just came back from a lovely trip along the ...  \n",
       "freq                                                    6  "
      ]
     },
     "execution_count": 152,
     "metadata": {},
     "output_type": "execute_result"
    }
   ],
   "source": [
    "song_data.describe()"
   ]
  },
  {
   "cell_type": "code",
   "execution_count": 153,
   "id": "88921d2c-5369-4a68-a0b1-20fb35c299c2",
   "metadata": {},
   "outputs": [
    {
     "data": {
      "text/html": [
       "<div>\n",
       "<style scoped>\n",
       "    .dataframe tbody tr th:only-of-type {\n",
       "        vertical-align: middle;\n",
       "    }\n",
       "\n",
       "    .dataframe tbody tr th {\n",
       "        vertical-align: top;\n",
       "    }\n",
       "\n",
       "    .dataframe thead th {\n",
       "        text-align: right;\n",
       "    }\n",
       "</style>\n",
       "<table border=\"1\" class=\"dataframe\">\n",
       "  <thead>\n",
       "    <tr style=\"text-align: right;\">\n",
       "      <th></th>\n",
       "      <th>index</th>\n",
       "      <th>id</th>\n",
       "    </tr>\n",
       "  </thead>\n",
       "  <tbody>\n",
       "    <tr>\n",
       "      <th>0</th>\n",
       "      <td>count</td>\n",
       "      <td>57650</td>\n",
       "    </tr>\n",
       "    <tr>\n",
       "      <th>1</th>\n",
       "      <td>unique</td>\n",
       "      <td>40432</td>\n",
       "    </tr>\n",
       "    <tr>\n",
       "      <th>2</th>\n",
       "      <td>top</td>\n",
       "      <td>NoMatchingId</td>\n",
       "    </tr>\n",
       "    <tr>\n",
       "      <th>3</th>\n",
       "      <td>freq</td>\n",
       "      <td>16592</td>\n",
       "    </tr>\n",
       "  </tbody>\n",
       "</table>\n",
       "</div>"
      ],
      "text/plain": [
       "    index            id\n",
       "0   count         57650\n",
       "1  unique         40432\n",
       "2     top  NoMatchingId\n",
       "3    freq         16592"
      ]
     },
     "execution_count": 153,
     "metadata": {},
     "output_type": "execute_result"
    }
   ],
   "source": [
    "id_series.describe().reset_index()"
   ]
  },
  {
   "cell_type": "code",
   "execution_count": 154,
   "id": "d1eb5275-72fd-4ac2-975f-b68bdcedc1c2",
   "metadata": {},
   "outputs": [
    {
     "data": {
      "text/html": [
       "<div>\n",
       "<style scoped>\n",
       "    .dataframe tbody tr th:only-of-type {\n",
       "        vertical-align: middle;\n",
       "    }\n",
       "\n",
       "    .dataframe tbody tr th {\n",
       "        vertical-align: top;\n",
       "    }\n",
       "\n",
       "    .dataframe thead th {\n",
       "        text-align: right;\n",
       "    }\n",
       "</style>\n",
       "<table border=\"1\" class=\"dataframe\">\n",
       "  <thead>\n",
       "    <tr style=\"text-align: right;\">\n",
       "      <th></th>\n",
       "      <th>index</th>\n",
       "      <th>explicit</th>\n",
       "    </tr>\n",
       "  </thead>\n",
       "  <tbody>\n",
       "    <tr>\n",
       "      <th>0</th>\n",
       "      <td>count</td>\n",
       "      <td>57650</td>\n",
       "    </tr>\n",
       "    <tr>\n",
       "      <th>1</th>\n",
       "      <td>unique</td>\n",
       "      <td>3</td>\n",
       "    </tr>\n",
       "    <tr>\n",
       "      <th>2</th>\n",
       "      <td>top</td>\n",
       "      <td>False</td>\n",
       "    </tr>\n",
       "    <tr>\n",
       "      <th>3</th>\n",
       "      <td>freq</td>\n",
       "      <td>38970</td>\n",
       "    </tr>\n",
       "  </tbody>\n",
       "</table>\n",
       "</div>"
      ],
      "text/plain": [
       "    index explicit\n",
       "0   count    57650\n",
       "1  unique        3\n",
       "2     top    False\n",
       "3    freq    38970"
      ]
     },
     "execution_count": 154,
     "metadata": {},
     "output_type": "execute_result"
    }
   ],
   "source": [
    "explicit_series.describe().reset_index()"
   ]
  },
  {
   "cell_type": "code",
   "execution_count": 155,
   "id": "35f3c505-4b05-4d1d-a5fa-cba5da99a770",
   "metadata": {},
   "outputs": [],
   "source": [
    "id_series = id_series.reset_index(drop=True)\n",
    "explicit_series = explicit_series.reset_index(drop=True)"
   ]
  },
  {
   "cell_type": "code",
   "execution_count": 156,
   "id": "3864e0ae-07bd-485a-a502-9bf2f37de153",
   "metadata": {},
   "outputs": [],
   "source": [
    "#first[first['id'] == '3EvyKykUdlWdYyUOItgYOA']\n",
    "song_data['id'] = id_series\n",
    "song_data['explicit'] = explicit_series"
   ]
  },
  {
   "cell_type": "code",
   "execution_count": 157,
   "id": "9efb70b0-9ce8-482b-af3d-f4962c165dad",
   "metadata": {},
   "outputs": [
    {
     "data": {
      "text/html": [
       "<div>\n",
       "<style scoped>\n",
       "    .dataframe tbody tr th:only-of-type {\n",
       "        vertical-align: middle;\n",
       "    }\n",
       "\n",
       "    .dataframe tbody tr th {\n",
       "        vertical-align: top;\n",
       "    }\n",
       "\n",
       "    .dataframe thead th {\n",
       "        text-align: right;\n",
       "    }\n",
       "</style>\n",
       "<table border=\"1\" class=\"dataframe\">\n",
       "  <thead>\n",
       "    <tr style=\"text-align: right;\">\n",
       "      <th></th>\n",
       "      <th>artist</th>\n",
       "      <th>song</th>\n",
       "      <th>link</th>\n",
       "      <th>text</th>\n",
       "      <th>id</th>\n",
       "      <th>explicit</th>\n",
       "    </tr>\n",
       "  </thead>\n",
       "  <tbody>\n",
       "    <tr>\n",
       "      <th>20394</th>\n",
       "      <td>Utopia</td>\n",
       "      <td>Hiroshima</td>\n",
       "      <td>/u/utopia/hiroshima_20142681.html</td>\n",
       "      <td>Under the rising sun dirty yellow children pla...</td>\n",
       "      <td>7mEYunr23o047tHh27mhDd</td>\n",
       "      <td>True</td>\n",
       "    </tr>\n",
       "    <tr>\n",
       "      <th>20395</th>\n",
       "      <td>Utopia</td>\n",
       "      <td>I Just Want To Touch You</td>\n",
       "      <td>/u/utopia/i+just+want+to+touch+you_20142641.html</td>\n",
       "      <td>There's a flame in the back of my mind  \\nAnd ...</td>\n",
       "      <td>3KtoeTmtGF4oj1ie7glLXZ</td>\n",
       "      <td>False</td>\n",
       "    </tr>\n",
       "  </tbody>\n",
       "</table>\n",
       "</div>"
      ],
      "text/plain": [
       "       artist                      song  \\\n",
       "20394  Utopia                 Hiroshima   \n",
       "20395  Utopia  I Just Want To Touch You   \n",
       "\n",
       "                                                   link  \\\n",
       "20394                 /u/utopia/hiroshima_20142681.html   \n",
       "20395  /u/utopia/i+just+want+to+touch+you_20142641.html   \n",
       "\n",
       "                                                    text  \\\n",
       "20394  Under the rising sun dirty yellow children pla...   \n",
       "20395  There's a flame in the back of my mind  \\nAnd ...   \n",
       "\n",
       "                           id explicit  \n",
       "20394  7mEYunr23o047tHh27mhDd     True  \n",
       "20395  3KtoeTmtGF4oj1ie7glLXZ    False  "
      ]
     },
     "execution_count": 157,
     "metadata": {},
     "output_type": "execute_result"
    }
   ],
   "source": [
    "song_data[20394:20396]"
   ]
  },
  {
   "cell_type": "code",
   "execution_count": 158,
   "id": "b0c6e322-d6b1-4cc8-8f66-7dbd6e92b672",
   "metadata": {},
   "outputs": [],
   "source": [
    "#Check if data is correct by testing on samples\n",
    "import spotipy\n",
    "from spotipy.oauth2 import SpotifyOAuth"
   ]
  },
  {
   "cell_type": "code",
   "execution_count": 159,
   "id": "1f04dae6-c6ec-4606-b7ae-8c8aad0d9a34",
   "metadata": {},
   "outputs": [],
   "source": [
    "SPOTIPY_CLIENT_ID = \"YOUR_CLIENT_ID\"\n",
    "SPOTIPY_CLIENT_SECRET = \"YOUR_SECRET\"\n",
    "REDIRECT_URI = \"http://localhost:3000\"\n",
    "TIMEOUT = 60\n",
    "sp = spotipy.Spotify(auth_manager = SpotifyOAuth(client_id = SPOTIPY_CLIENT_ID,\n",
    "                                                      client_secret = SPOTIPY_CLIENT_SECRET,\n",
    "                                                      redirect_uri = REDIRECT_URI),\n",
    "                                                      requests_timeout = TIMEOUT)"
   ]
  },
  {
   "cell_type": "code",
   "execution_count": 160,
   "id": "96471694-bac2-4ad0-bf97-b42ca5611a86",
   "metadata": {},
   "outputs": [],
   "source": [
    "def get_explicit_label(artist, song):\n",
    "    try:\n",
    "        results = sp.search(q=\"artist:\" + artist + \" track:\" + song, type='track', limit=3)\n",
    "    except requests.exceptions.HTTPError as e:\n",
    "        if e.response.status_code == 429:\n",
    "            retry_after = int(e.response.headers.get('Retry-After', 1))\n",
    "            print(f\"Rate limited. Retrying after {retry_after} seconds.\")\n",
    "            time.sleep(retry_after + 1)\n",
    "        else:\n",
    "            raise\n",
    "    #print(\"result\", results,\"\\n\")\n",
    "    if len(results['tracks']['items'])>0:\n",
    "        #print(1)\n",
    "        for t in results['tracks']['items']:\n",
    "            if t['artists'][0]['name'] == artist:\n",
    "                #print(2)\n",
    "                id = t['id']\n",
    "                label = t['explicit']\n",
    "                break\n",
    "            else:\n",
    "                #print(3)\n",
    "                id = 'NoMatchingId'\n",
    "                label = 'NoMatchingLabel'\n",
    "    else:\n",
    "        #print(4)\n",
    "        id = 'NoMatchingId'\n",
    "        label = 'NoMatchingLabel'\n",
    "    #print(label)\n",
    "    return label, id"
   ]
  },
  {
   "cell_type": "code",
   "execution_count": 161,
   "id": "a76da795-c705-4a9d-ae3b-211b5ef72ac0",
   "metadata": {},
   "outputs": [
    {
     "name": "stdout",
     "output_type": "stream",
     "text": [
      "(False, '3KtoeTmtGF4oj1ie7glLXZ')\n"
     ]
    }
   ],
   "source": [
    "print(get_explicit_label('Utopia', 'I Just Want To Touch You'))"
   ]
  },
  {
   "cell_type": "code",
   "execution_count": 162,
   "id": "7793b5f5-6d29-4030-8f85-c32e763c087d",
   "metadata": {},
   "outputs": [
    {
     "data": {
      "text/html": [
       "<div>\n",
       "<style scoped>\n",
       "    .dataframe tbody tr th:only-of-type {\n",
       "        vertical-align: middle;\n",
       "    }\n",
       "\n",
       "    .dataframe tbody tr th {\n",
       "        vertical-align: top;\n",
       "    }\n",
       "\n",
       "    .dataframe thead th {\n",
       "        text-align: right;\n",
       "    }\n",
       "</style>\n",
       "<table border=\"1\" class=\"dataframe\">\n",
       "  <thead>\n",
       "    <tr style=\"text-align: right;\">\n",
       "      <th></th>\n",
       "      <th>artist</th>\n",
       "      <th>song</th>\n",
       "      <th>link</th>\n",
       "      <th>text</th>\n",
       "      <th>id</th>\n",
       "      <th>explicit</th>\n",
       "    </tr>\n",
       "  </thead>\n",
       "  <tbody>\n",
       "    <tr>\n",
       "      <th>48543</th>\n",
       "      <td>Planetshakers</td>\n",
       "      <td>Cry Holy</td>\n",
       "      <td>/p/planetshakers/cry+holy_10207012.html</td>\n",
       "      <td>Wondrous mystery, in the pages of history,  \\n...</td>\n",
       "      <td>1sNJ00uv21TV1MVw0nzFbO</td>\n",
       "      <td>False</td>\n",
       "    </tr>\n",
       "  </tbody>\n",
       "</table>\n",
       "</div>"
      ],
      "text/plain": [
       "              artist      song                                     link  \\\n",
       "48543  Planetshakers  Cry Holy  /p/planetshakers/cry+holy_10207012.html   \n",
       "\n",
       "                                                    text  \\\n",
       "48543  Wondrous mystery, in the pages of history,  \\n...   \n",
       "\n",
       "                           id explicit  \n",
       "48543  1sNJ00uv21TV1MVw0nzFbO    False  "
      ]
     },
     "execution_count": 162,
     "metadata": {},
     "output_type": "execute_result"
    }
   ],
   "source": [
    "song_data[48543:48544]"
   ]
  },
  {
   "cell_type": "code",
   "execution_count": 163,
   "id": "c2d4837e-5751-4b29-97a4-af541aa8f8eb",
   "metadata": {},
   "outputs": [
    {
     "name": "stdout",
     "output_type": "stream",
     "text": [
      "(False, '1sNJ00uv21TV1MVw0nzFbO')\n"
     ]
    }
   ],
   "source": [
    "print(get_explicit_label('Planetshakers', 'Cry Holy'))"
   ]
  },
  {
   "cell_type": "code",
   "execution_count": 164,
   "id": "83e194cb-a7ab-4ae8-961e-139a1c1dd7a1",
   "metadata": {},
   "outputs": [
    {
     "data": {
      "text/html": [
       "<div>\n",
       "<style scoped>\n",
       "    .dataframe tbody tr th:only-of-type {\n",
       "        vertical-align: middle;\n",
       "    }\n",
       "\n",
       "    .dataframe tbody tr th {\n",
       "        vertical-align: top;\n",
       "    }\n",
       "\n",
       "    .dataframe thead th {\n",
       "        text-align: right;\n",
       "    }\n",
       "</style>\n",
       "<table border=\"1\" class=\"dataframe\">\n",
       "  <thead>\n",
       "    <tr style=\"text-align: right;\">\n",
       "      <th></th>\n",
       "      <th>artist</th>\n",
       "      <th>song</th>\n",
       "      <th>link</th>\n",
       "      <th>text</th>\n",
       "      <th>id</th>\n",
       "      <th>explicit</th>\n",
       "    </tr>\n",
       "  </thead>\n",
       "  <tbody>\n",
       "    <tr>\n",
       "      <th>53543</th>\n",
       "      <td>Tom T. Hall</td>\n",
       "      <td>Song Of The One Legged Chicken</td>\n",
       "      <td>/t/tom+t+hall/song+of+the+one+legged+chicken_2...</td>\n",
       "      <td>Do you like true stories? I do  \\nThat's why I...</td>\n",
       "      <td>6RNqmxSTAvo6UfQISlCcxj</td>\n",
       "      <td>False</td>\n",
       "    </tr>\n",
       "  </tbody>\n",
       "</table>\n",
       "</div>"
      ],
      "text/plain": [
       "            artist                            song  \\\n",
       "53543  Tom T. Hall  Song Of The One Legged Chicken   \n",
       "\n",
       "                                                    link  \\\n",
       "53543  /t/tom+t+hall/song+of+the+one+legged+chicken_2...   \n",
       "\n",
       "                                                    text  \\\n",
       "53543  Do you like true stories? I do  \\nThat's why I...   \n",
       "\n",
       "                           id explicit  \n",
       "53543  6RNqmxSTAvo6UfQISlCcxj    False  "
      ]
     },
     "execution_count": 164,
     "metadata": {},
     "output_type": "execute_result"
    }
   ],
   "source": [
    "song_data[53543:53544]"
   ]
  },
  {
   "cell_type": "code",
   "execution_count": 165,
   "id": "31c50333-985f-4e7d-a25f-fb6e2e4f91af",
   "metadata": {},
   "outputs": [
    {
     "name": "stdout",
     "output_type": "stream",
     "text": [
      "(False, '6RNqmxSTAvo6UfQISlCcxj')\n"
     ]
    }
   ],
   "source": [
    "print(get_explicit_label('Tom T. Hall', 'Song Of The One Legged Chicken'))"
   ]
  },
  {
   "cell_type": "code",
   "execution_count": 166,
   "id": "db1168a9-2dbe-4ca1-8434-c7e5e552d08e",
   "metadata": {},
   "outputs": [
    {
     "data": {
      "text/html": [
       "<div>\n",
       "<style scoped>\n",
       "    .dataframe tbody tr th:only-of-type {\n",
       "        vertical-align: middle;\n",
       "    }\n",
       "\n",
       "    .dataframe tbody tr th {\n",
       "        vertical-align: top;\n",
       "    }\n",
       "\n",
       "    .dataframe thead th {\n",
       "        text-align: right;\n",
       "    }\n",
       "</style>\n",
       "<table border=\"1\" class=\"dataframe\">\n",
       "  <thead>\n",
       "    <tr style=\"text-align: right;\">\n",
       "      <th></th>\n",
       "      <th>artist</th>\n",
       "      <th>song</th>\n",
       "      <th>link</th>\n",
       "      <th>text</th>\n",
       "      <th>id</th>\n",
       "      <th>explicit</th>\n",
       "    </tr>\n",
       "  </thead>\n",
       "  <tbody>\n",
       "    <tr>\n",
       "      <th>57645</th>\n",
       "      <td>Ziggy Marley</td>\n",
       "      <td>Good Old Days</td>\n",
       "      <td>/z/ziggy+marley/good+old+days_10198588.html</td>\n",
       "      <td>Irie days come on play  \\nLet the angels fly l...</td>\n",
       "      <td>NoMatchingId</td>\n",
       "      <td>NoMatchingLabel</td>\n",
       "    </tr>\n",
       "    <tr>\n",
       "      <th>57646</th>\n",
       "      <td>Ziggy Marley</td>\n",
       "      <td>Hand To Mouth</td>\n",
       "      <td>/z/ziggy+marley/hand+to+mouth_20531167.html</td>\n",
       "      <td>Power to the workers  \\nMore power  \\nPower to...</td>\n",
       "      <td>NoMatchingId</td>\n",
       "      <td>NoMatchingLabel</td>\n",
       "    </tr>\n",
       "    <tr>\n",
       "      <th>57647</th>\n",
       "      <td>Zwan</td>\n",
       "      <td>Come With Me</td>\n",
       "      <td>/z/zwan/come+with+me_20148981.html</td>\n",
       "      <td>all you need  \\nis something i'll believe  \\nf...</td>\n",
       "      <td>NoMatchingId</td>\n",
       "      <td>NoMatchingLabel</td>\n",
       "    </tr>\n",
       "    <tr>\n",
       "      <th>57648</th>\n",
       "      <td>Zwan</td>\n",
       "      <td>Desire</td>\n",
       "      <td>/z/zwan/desire_20148986.html</td>\n",
       "      <td>northern star  \\nam i frightened  \\nwhere can ...</td>\n",
       "      <td>NoMatchingId</td>\n",
       "      <td>NoMatchingLabel</td>\n",
       "    </tr>\n",
       "    <tr>\n",
       "      <th>57649</th>\n",
       "      <td>Zwan</td>\n",
       "      <td>Heartsong</td>\n",
       "      <td>/z/zwan/heartsong_20148991.html</td>\n",
       "      <td>come in  \\nmake yourself at home  \\ni'm a bit ...</td>\n",
       "      <td>NoMatchingId</td>\n",
       "      <td>NoMatchingLabel</td>\n",
       "    </tr>\n",
       "  </tbody>\n",
       "</table>\n",
       "</div>"
      ],
      "text/plain": [
       "             artist           song  \\\n",
       "57645  Ziggy Marley  Good Old Days   \n",
       "57646  Ziggy Marley  Hand To Mouth   \n",
       "57647          Zwan   Come With Me   \n",
       "57648          Zwan         Desire   \n",
       "57649          Zwan      Heartsong   \n",
       "\n",
       "                                              link  \\\n",
       "57645  /z/ziggy+marley/good+old+days_10198588.html   \n",
       "57646  /z/ziggy+marley/hand+to+mouth_20531167.html   \n",
       "57647           /z/zwan/come+with+me_20148981.html   \n",
       "57648                 /z/zwan/desire_20148986.html   \n",
       "57649              /z/zwan/heartsong_20148991.html   \n",
       "\n",
       "                                                    text            id  \\\n",
       "57645  Irie days come on play  \\nLet the angels fly l...  NoMatchingId   \n",
       "57646  Power to the workers  \\nMore power  \\nPower to...  NoMatchingId   \n",
       "57647  all you need  \\nis something i'll believe  \\nf...  NoMatchingId   \n",
       "57648  northern star  \\nam i frightened  \\nwhere can ...  NoMatchingId   \n",
       "57649  come in  \\nmake yourself at home  \\ni'm a bit ...  NoMatchingId   \n",
       "\n",
       "              explicit  \n",
       "57645  NoMatchingLabel  \n",
       "57646  NoMatchingLabel  \n",
       "57647  NoMatchingLabel  \n",
       "57648  NoMatchingLabel  \n",
       "57649  NoMatchingLabel  "
      ]
     },
     "execution_count": 166,
     "metadata": {},
     "output_type": "execute_result"
    }
   ],
   "source": [
    "song_data.tail()"
   ]
  },
  {
   "cell_type": "code",
   "execution_count": 167,
   "id": "ac519940-d19b-45b7-a776-eeb1a725b8be",
   "metadata": {},
   "outputs": [
    {
     "name": "stdout",
     "output_type": "stream",
     "text": [
      "('NoMatchingLabel', 'NoMatchingId')\n"
     ]
    }
   ],
   "source": [
    "print(get_explicit_label('Zwan', 'Heartsong'))"
   ]
  },
  {
   "cell_type": "code",
   "execution_count": 168,
   "id": "3d2a24f4-dcec-4311-9dce-9d44f93d3f73",
   "metadata": {},
   "outputs": [
    {
     "data": {
      "text/html": [
       "<div>\n",
       "<style scoped>\n",
       "    .dataframe tbody tr th:only-of-type {\n",
       "        vertical-align: middle;\n",
       "    }\n",
       "\n",
       "    .dataframe tbody tr th {\n",
       "        vertical-align: top;\n",
       "    }\n",
       "\n",
       "    .dataframe thead th {\n",
       "        text-align: right;\n",
       "    }\n",
       "</style>\n",
       "<table border=\"1\" class=\"dataframe\">\n",
       "  <thead>\n",
       "    <tr style=\"text-align: right;\">\n",
       "      <th></th>\n",
       "      <th>artist</th>\n",
       "      <th>song</th>\n",
       "      <th>link</th>\n",
       "      <th>text</th>\n",
       "      <th>id</th>\n",
       "      <th>explicit</th>\n",
       "    </tr>\n",
       "  </thead>\n",
       "  <tbody>\n",
       "    <tr>\n",
       "      <th>4356</th>\n",
       "      <td>Don McLean</td>\n",
       "      <td>Your Cheatin' Heart</td>\n",
       "      <td>/d/don+mclean/your+cheatin+heart_20506979.html</td>\n",
       "      <td>Your cheatin' heart will make you weep  \\nYou'...</td>\n",
       "      <td>0HTAIhHpls0TRqz9SN1o5V</td>\n",
       "      <td>False</td>\n",
       "    </tr>\n",
       "    <tr>\n",
       "      <th>4357</th>\n",
       "      <td>Don Moen</td>\n",
       "      <td>All We Like Sheep</td>\n",
       "      <td>/d/don+moen/all+we+like+sheep_21012637.html</td>\n",
       "      <td>All we like sheep  \\nHave gone astray  \\nEach ...</td>\n",
       "      <td>6MrLAdMzvicN7prbBcekSk</td>\n",
       "      <td>False</td>\n",
       "    </tr>\n",
       "    <tr>\n",
       "      <th>4358</th>\n",
       "      <td>Don Moen</td>\n",
       "      <td>Arise</td>\n",
       "      <td>/d/don+moen/arise_20749286.html</td>\n",
       "      <td>Arise, arise, arise, arise  \\nArise, take Your...</td>\n",
       "      <td>3dMxpNASUR1pdQuG9olFQZ</td>\n",
       "      <td>False</td>\n",
       "    </tr>\n",
       "  </tbody>\n",
       "</table>\n",
       "</div>"
      ],
      "text/plain": [
       "          artist                 song  \\\n",
       "4356  Don McLean  Your Cheatin' Heart   \n",
       "4357    Don Moen    All We Like Sheep   \n",
       "4358    Don Moen                Arise   \n",
       "\n",
       "                                                link  \\\n",
       "4356  /d/don+mclean/your+cheatin+heart_20506979.html   \n",
       "4357     /d/don+moen/all+we+like+sheep_21012637.html   \n",
       "4358                 /d/don+moen/arise_20749286.html   \n",
       "\n",
       "                                                   text  \\\n",
       "4356  Your cheatin' heart will make you weep  \\nYou'...   \n",
       "4357  All we like sheep  \\nHave gone astray  \\nEach ...   \n",
       "4358  Arise, arise, arise, arise  \\nArise, take Your...   \n",
       "\n",
       "                          id explicit  \n",
       "4356  0HTAIhHpls0TRqz9SN1o5V    False  \n",
       "4357  6MrLAdMzvicN7prbBcekSk    False  \n",
       "4358  3dMxpNASUR1pdQuG9olFQZ    False  "
      ]
     },
     "execution_count": 168,
     "metadata": {},
     "output_type": "execute_result"
    }
   ],
   "source": [
    "song_data[4356:4359]"
   ]
  },
  {
   "cell_type": "code",
   "execution_count": 169,
   "id": "09faf74b-7b79-47ed-b846-e5a98a0f0982",
   "metadata": {},
   "outputs": [
    {
     "name": "stdout",
     "output_type": "stream",
     "text": [
      "(False, '6MrLAdMzvicN7prbBcekSk')\n"
     ]
    }
   ],
   "source": [
    "print(get_explicit_label('Don Moen', 'All We Like Sheep'))"
   ]
  },
  {
   "cell_type": "code",
   "execution_count": 170,
   "id": "e29b39e0-8728-406a-a1d4-1764173ff885",
   "metadata": {},
   "outputs": [
    {
     "data": {
      "text/html": [
       "<div>\n",
       "<style scoped>\n",
       "    .dataframe tbody tr th:only-of-type {\n",
       "        vertical-align: middle;\n",
       "    }\n",
       "\n",
       "    .dataframe tbody tr th {\n",
       "        vertical-align: top;\n",
       "    }\n",
       "\n",
       "    .dataframe thead th {\n",
       "        text-align: right;\n",
       "    }\n",
       "</style>\n",
       "<table border=\"1\" class=\"dataframe\">\n",
       "  <thead>\n",
       "    <tr style=\"text-align: right;\">\n",
       "      <th></th>\n",
       "      <th>artist</th>\n",
       "      <th>song</th>\n",
       "      <th>link</th>\n",
       "      <th>text</th>\n",
       "      <th>id</th>\n",
       "      <th>explicit</th>\n",
       "    </tr>\n",
       "  </thead>\n",
       "  <tbody>\n",
       "    <tr>\n",
       "      <th>14356</th>\n",
       "      <td>Noa</td>\n",
       "      <td>Nisayon</td>\n",
       "      <td>/n/noa/nisayon_20709293.html</td>\n",
       "      <td>Lyrics: Leah Goldberg  \\nMusic: Achinoam Nini ...</td>\n",
       "      <td>3UgyN43dxqjskIWcMxKDop</td>\n",
       "      <td>False</td>\n",
       "    </tr>\n",
       "    <tr>\n",
       "      <th>14357</th>\n",
       "      <td>Noa</td>\n",
       "      <td>Oh, My God!</td>\n",
       "      <td>/n/noa/oh+my+god_20729039.html</td>\n",
       "      <td>Lyrics: Leah Goldberg  \\nMusic: Achinoam Nini ...</td>\n",
       "      <td>NoMatchingId</td>\n",
       "      <td>NoMatchingLabel</td>\n",
       "    </tr>\n",
       "    <tr>\n",
       "      <th>14358</th>\n",
       "      <td>Noa</td>\n",
       "      <td>Santa Lucia Luntana</td>\n",
       "      <td>/n/noa/santa+lucia+luntana_20664948.html</td>\n",
       "      <td>Partono 'e bastimente  \\nPe terra assaje lunta...</td>\n",
       "      <td>3dhdMgD487GtKNB27o9SE5</td>\n",
       "      <td>False</td>\n",
       "    </tr>\n",
       "  </tbody>\n",
       "</table>\n",
       "</div>"
      ],
      "text/plain": [
       "      artist                 song                                      link  \\\n",
       "14356    Noa              Nisayon              /n/noa/nisayon_20709293.html   \n",
       "14357    Noa          Oh, My God!            /n/noa/oh+my+god_20729039.html   \n",
       "14358    Noa  Santa Lucia Luntana  /n/noa/santa+lucia+luntana_20664948.html   \n",
       "\n",
       "                                                    text  \\\n",
       "14356  Lyrics: Leah Goldberg  \\nMusic: Achinoam Nini ...   \n",
       "14357  Lyrics: Leah Goldberg  \\nMusic: Achinoam Nini ...   \n",
       "14358  Partono 'e bastimente  \\nPe terra assaje lunta...   \n",
       "\n",
       "                           id         explicit  \n",
       "14356  3UgyN43dxqjskIWcMxKDop            False  \n",
       "14357            NoMatchingId  NoMatchingLabel  \n",
       "14358  3dhdMgD487GtKNB27o9SE5            False  "
      ]
     },
     "execution_count": 170,
     "metadata": {},
     "output_type": "execute_result"
    }
   ],
   "source": [
    "song_data[14356:14359]"
   ]
  },
  {
   "cell_type": "code",
   "execution_count": null,
   "id": "ff2edd35-da99-4ed2-9e16-affee6bf81ae",
   "metadata": {},
   "outputs": [],
   "source": []
  },
  {
   "cell_type": "code",
   "execution_count": 171,
   "id": "719be6c7-1366-442c-851b-bc42939dfede",
   "metadata": {},
   "outputs": [
    {
     "name": "stdout",
     "output_type": "stream",
     "text": [
      "(False, '3UgyN43dxqjskIWcMxKDop')\n"
     ]
    }
   ],
   "source": [
    "print(get_explicit_label('Noa', 'Nisayon'))"
   ]
  },
  {
   "cell_type": "code",
   "execution_count": 172,
   "id": "252451fc-9a80-4882-947d-9fe667d19d58",
   "metadata": {},
   "outputs": [],
   "source": [
    "#save csv\n",
    "fpath = \"data/song_data_with_id_explicit.csv\"\n",
    "song_data.to_csv(fpath, index=False, header=True)"
   ]
  },
  {
   "cell_type": "code",
   "execution_count": 173,
   "id": "ec08a610-3947-4696-b649-26ed72bcc223",
   "metadata": {},
   "outputs": [],
   "source": [
    "song_data = song_data.drop_duplicates(subset='id')"
   ]
  },
  {
   "cell_type": "code",
   "execution_count": 174,
   "id": "ded4ec78-3a01-4065-88a1-f1872b5d2422",
   "metadata": {},
   "outputs": [],
   "source": [
    "song_data = song_data[song_data['id'] != 'NoMatchingId']"
   ]
  },
  {
   "cell_type": "code",
   "execution_count": 175,
   "id": "faa198ff-9764-42d0-bc67-3400d4e686ef",
   "metadata": {},
   "outputs": [
    {
     "data": {
      "text/plain": [
       "id\n",
       "1JnHZagDFvrT2lx4QovSOo    1\n",
       "5DdwTllBqV9AGrzfKrkwTH    1\n",
       "5iDB0WfqBAB3mKpP5LoOYL    1\n",
       "5TZMOhEiBpeleTO0I3MLE4    1\n",
       "57hl36JLyFRt5aS1X6EYnX    1\n",
       "                         ..\n",
       "3bq6GVy7ol5FdMU0OtKVkz    1\n",
       "3Akse2dwLMPkqEE1Cxqr4n    1\n",
       "1hMKlj8t9zOJanjExQF8YO    1\n",
       "3tHEuWrwYyGWHkeuWWXB6j    1\n",
       "2QXqpOwlYx1hXMilSBlUBt    1\n",
       "Name: count, Length: 40431, dtype: int64"
      ]
     },
     "execution_count": 175,
     "metadata": {},
     "output_type": "execute_result"
    }
   ],
   "source": [
    "song_data['id'].value_counts()"
   ]
  },
  {
   "cell_type": "code",
   "execution_count": 176,
   "id": "d4bebdc4-35a8-471d-b191-ced65e6c0df0",
   "metadata": {},
   "outputs": [
    {
     "data": {
      "text/html": [
       "<div>\n",
       "<style scoped>\n",
       "    .dataframe tbody tr th:only-of-type {\n",
       "        vertical-align: middle;\n",
       "    }\n",
       "\n",
       "    .dataframe tbody tr th {\n",
       "        vertical-align: top;\n",
       "    }\n",
       "\n",
       "    .dataframe thead th {\n",
       "        text-align: right;\n",
       "    }\n",
       "</style>\n",
       "<table border=\"1\" class=\"dataframe\">\n",
       "  <thead>\n",
       "    <tr style=\"text-align: right;\">\n",
       "      <th></th>\n",
       "      <th>artist</th>\n",
       "      <th>song</th>\n",
       "      <th>link</th>\n",
       "      <th>text</th>\n",
       "      <th>id</th>\n",
       "      <th>explicit</th>\n",
       "    </tr>\n",
       "  </thead>\n",
       "  <tbody>\n",
       "    <tr>\n",
       "      <th>count</th>\n",
       "      <td>40431</td>\n",
       "      <td>40431</td>\n",
       "      <td>40431</td>\n",
       "      <td>40431</td>\n",
       "      <td>40431</td>\n",
       "      <td>40431</td>\n",
       "    </tr>\n",
       "    <tr>\n",
       "      <th>unique</th>\n",
       "      <td>550</td>\n",
       "      <td>32779</td>\n",
       "      <td>40431</td>\n",
       "      <td>40356</td>\n",
       "      <td>40431</td>\n",
       "      <td>2</td>\n",
       "    </tr>\n",
       "    <tr>\n",
       "      <th>top</th>\n",
       "      <td>George Strait</td>\n",
       "      <td>Have Yourself A Merry Little Christmas</td>\n",
       "      <td>/a/abba/andante+andante_20002708.html</td>\n",
       "      <td>I've got sunshine on a cloudy day  \\nWhen it's...</td>\n",
       "      <td>1JnHZagDFvrT2lx4QovSOo</td>\n",
       "      <td>False</td>\n",
       "    </tr>\n",
       "    <tr>\n",
       "      <th>freq</th>\n",
       "      <td>183</td>\n",
       "      <td>28</td>\n",
       "      <td>1</td>\n",
       "      <td>6</td>\n",
       "      <td>1</td>\n",
       "      <td>38379</td>\n",
       "    </tr>\n",
       "  </tbody>\n",
       "</table>\n",
       "</div>"
      ],
      "text/plain": [
       "               artist                                    song  \\\n",
       "count           40431                                   40431   \n",
       "unique            550                                   32779   \n",
       "top     George Strait  Have Yourself A Merry Little Christmas   \n",
       "freq              183                                      28   \n",
       "\n",
       "                                         link  \\\n",
       "count                                   40431   \n",
       "unique                                  40431   \n",
       "top     /a/abba/andante+andante_20002708.html   \n",
       "freq                                        1   \n",
       "\n",
       "                                                     text  \\\n",
       "count                                               40431   \n",
       "unique                                              40356   \n",
       "top     I've got sunshine on a cloudy day  \\nWhen it's...   \n",
       "freq                                                    6   \n",
       "\n",
       "                            id explicit  \n",
       "count                    40431    40431  \n",
       "unique                   40431        2  \n",
       "top     1JnHZagDFvrT2lx4QovSOo    False  \n",
       "freq                         1    38379  "
      ]
     },
     "execution_count": 176,
     "metadata": {},
     "output_type": "execute_result"
    }
   ],
   "source": [
    "song_data.describe()"
   ]
  },
  {
   "cell_type": "code",
   "execution_count": 177,
   "id": "16c82b5f-8674-4c41-a065-93156b130ae0",
   "metadata": {},
   "outputs": [],
   "source": [
    "fpath1 = \"output/data/song_data_with_id_explicit_cleaned_1.csv\"\n",
    "song_data.to_csv(fpath1, index=False, header=True)"
   ]
  },
  {
   "cell_type": "code",
   "execution_count": 178,
   "id": "eb656856-ef2b-485c-a3da-f6f43c2b1528",
   "metadata": {},
   "outputs": [],
   "source": [
    "song_billboard = pd.read_csv(\"data/updated_billboard_lyrics.csv\")"
   ]
  },
  {
   "cell_type": "code",
   "execution_count": 179,
   "id": "9d99175a-4b65-474e-9376-7331c9fbcb6d",
   "metadata": {},
   "outputs": [
    {
     "data": {
      "text/plain": [
       "Index(['artist_all', 'artist_base', 'rank', 'song', 'year', 'artist_featured',\n",
       "       'song_clean', 'artist_clean', 'lyrics', 'acousticness', 'danceability',\n",
       "       'energy', 'explicit', 'instrumentalness', 'key', 'liveness', 'loudness',\n",
       "       'mode', 'popularity', 'release_date', 'speechiness', 'tempo',\n",
       "       'time_signature', 'valence', 'duration_min', 'num_words',\n",
       "       'words_per_sec', 'num_uniq_words', 'decade', 'uniq_ratio',\n",
       "       'sexual_content_count', 'violence_count', 'profanity_count',\n",
       "       'contains_sexual_content', 'contains_violence', 'contains_profanity'],\n",
       "      dtype='object')"
      ]
     },
     "execution_count": 179,
     "metadata": {},
     "output_type": "execute_result"
    }
   ],
   "source": [
    "song_billboard.columns"
   ]
  },
  {
   "cell_type": "code",
   "execution_count": 180,
   "id": "d64021e7-e3e2-4b5a-ae3f-2e8133667868",
   "metadata": {},
   "outputs": [],
   "source": [
    "song_data = pd.read_csv(\"output/data/song_data_with_id_explicit_cleaned_1.csv\")"
   ]
  },
  {
   "cell_type": "code",
   "execution_count": 181,
   "id": "4003b642-11e6-452e-9dda-b34cab8d99a6",
   "metadata": {},
   "outputs": [],
   "source": [
    "import pandas as pd\n",
    "import time\n",
    "import spotipy\n",
    "from IPython.display import display\n",
    "import requests\n",
    "from spotipy.oauth2 import SpotifyClientCredentials\n",
    "from spotipy.oauth2 import SpotifyOAuth\n",
    "SPOTIPY_CLIENT_ID = \"YOUR_CLIENT_ID\"\n",
    "SPOTIPY_CLIENT_SECRET = \"YOUR_SECRET\"\n",
    "REDIRECT_URI = \"http://localhost:3000\"\n",
    "TIMEOUT = 60\n",
    "sp = spotipy.Spotify(auth_manager = SpotifyOAuth(client_id = SPOTIPY_CLIENT_ID,\n",
    "                                                      client_secret = SPOTIPY_CLIENT_SECRET,\n",
    "                                                      redirect_uri = REDIRECT_URI),\n",
    "                                                      requests_timeout = TIMEOUT)"
   ]
  },
  {
   "cell_type": "code",
   "execution_count": 182,
   "id": "f0626e8a-f0a6-4d95-86cd-1957a724de1e",
   "metadata": {},
   "outputs": [],
   "source": [
    "def get_explicit_label(artist, song):\n",
    "    try:\n",
    "        results = sp.search(q=\"artist:\" + artist + \" track:\" + song, type='track', limit=3)\n",
    "    except requests.exceptions.HTTPError as e:\n",
    "        if e.response.status_code == 429:\n",
    "            retry_after = int(e.response.headers.get('Retry-After', 1))\n",
    "            print(f\"Rate limited. Retrying after {retry_after} seconds.\")\n",
    "            time.sleep(retry_after + 1)\n",
    "        else:\n",
    "            raise\n",
    "    #print(\"result\", results,\"\\n\")\n",
    "    if len(results['tracks']['items'])>0:\n",
    "        #print(1)\n",
    "        for t in results['tracks']['items']:\n",
    "            if t['artists'][0]['name'] == artist:\n",
    "                #print(2)\n",
    "                id = t['id']\n",
    "                label = t['explicit']\n",
    "                break\n",
    "            else:\n",
    "                #print(3)\n",
    "                id = 'NoMatchingId'\n",
    "                label = 'NoMatchingLabel'\n",
    "    else:\n",
    "        #print(4)\n",
    "        id = 'NoMatchingId'\n",
    "        label = 'NoMatchingLabel'\n",
    "    #print(label)\n",
    "    return label, id"
   ]
  },
  {
   "cell_type": "code",
   "execution_count": 183,
   "id": "fe18d1cb-2ebb-4f0b-b1b4-589d990b1292",
   "metadata": {},
   "outputs": [],
   "source": [
    "import numpy as np\n",
    "#testvec = np.arange(0, len(song_data), 100)\n",
    "testvec = [3899, 3900, 3901, 3902, 3903, 3904, 3905]"
   ]
  },
  {
   "cell_type": "code",
   "execution_count": 191,
   "id": "c1fe1a9a-1240-460c-8ace-9f0ebf8b18f1",
   "metadata": {},
   "outputs": [
    {
     "data": {
      "text/plain": [
       "'Dean Martin'"
      ]
     },
     "execution_count": 191,
     "metadata": {},
     "output_type": "execute_result"
    }
   ],
   "source": [
    "#testvec\n",
    "song_data['artist'][3902]"
   ]
  },
  {
   "cell_type": "code",
   "execution_count": 192,
   "id": "fd074d25-41ab-4db1-b6b0-a1fd1d93a043",
   "metadata": {},
   "outputs": [
    {
     "ename": "ConnectionError",
     "evalue": "('Connection aborted.', RemoteDisconnected('Remote end closed connection without response'))",
     "output_type": "error",
     "traceback": [
      "\u001B[1;31m---------------------------------------------------------------------------\u001B[0m",
      "\u001B[1;31mRemoteDisconnected\u001B[0m                        Traceback (most recent call last)",
      "File \u001B[1;32m~\\anaconda3\\Lib\\site-packages\\urllib3\\connectionpool.py:789\u001B[0m, in \u001B[0;36mHTTPConnectionPool.urlopen\u001B[1;34m(self, method, url, body, headers, retries, redirect, assert_same_host, timeout, pool_timeout, release_conn, chunked, body_pos, preload_content, decode_content, **response_kw)\u001B[0m\n\u001B[0;32m    788\u001B[0m \u001B[38;5;66;03m# Make the request on the HTTPConnection object\u001B[39;00m\n\u001B[1;32m--> 789\u001B[0m response \u001B[38;5;241m=\u001B[39m \u001B[38;5;28mself\u001B[39m\u001B[38;5;241m.\u001B[39m_make_request(\n\u001B[0;32m    790\u001B[0m     conn,\n\u001B[0;32m    791\u001B[0m     method,\n\u001B[0;32m    792\u001B[0m     url,\n\u001B[0;32m    793\u001B[0m     timeout\u001B[38;5;241m=\u001B[39mtimeout_obj,\n\u001B[0;32m    794\u001B[0m     body\u001B[38;5;241m=\u001B[39mbody,\n\u001B[0;32m    795\u001B[0m     headers\u001B[38;5;241m=\u001B[39mheaders,\n\u001B[0;32m    796\u001B[0m     chunked\u001B[38;5;241m=\u001B[39mchunked,\n\u001B[0;32m    797\u001B[0m     retries\u001B[38;5;241m=\u001B[39mretries,\n\u001B[0;32m    798\u001B[0m     response_conn\u001B[38;5;241m=\u001B[39mresponse_conn,\n\u001B[0;32m    799\u001B[0m     preload_content\u001B[38;5;241m=\u001B[39mpreload_content,\n\u001B[0;32m    800\u001B[0m     decode_content\u001B[38;5;241m=\u001B[39mdecode_content,\n\u001B[0;32m    801\u001B[0m     \u001B[38;5;241m*\u001B[39m\u001B[38;5;241m*\u001B[39mresponse_kw,\n\u001B[0;32m    802\u001B[0m )\n\u001B[0;32m    804\u001B[0m \u001B[38;5;66;03m# Everything went great!\u001B[39;00m\n",
      "File \u001B[1;32m~\\anaconda3\\Lib\\site-packages\\urllib3\\connectionpool.py:536\u001B[0m, in \u001B[0;36mHTTPConnectionPool._make_request\u001B[1;34m(self, conn, method, url, body, headers, retries, timeout, chunked, response_conn, preload_content, decode_content, enforce_content_length)\u001B[0m\n\u001B[0;32m    535\u001B[0m \u001B[38;5;28;01mtry\u001B[39;00m:\n\u001B[1;32m--> 536\u001B[0m     response \u001B[38;5;241m=\u001B[39m conn\u001B[38;5;241m.\u001B[39mgetresponse()\n\u001B[0;32m    537\u001B[0m \u001B[38;5;28;01mexcept\u001B[39;00m (BaseSSLError, \u001B[38;5;167;01mOSError\u001B[39;00m) \u001B[38;5;28;01mas\u001B[39;00m e:\n",
      "File \u001B[1;32m~\\anaconda3\\Lib\\site-packages\\urllib3\\connection.py:464\u001B[0m, in \u001B[0;36mHTTPConnection.getresponse\u001B[1;34m(self)\u001B[0m\n\u001B[0;32m    463\u001B[0m \u001B[38;5;66;03m# Get the response from http.client.HTTPConnection\u001B[39;00m\n\u001B[1;32m--> 464\u001B[0m httplib_response \u001B[38;5;241m=\u001B[39m \u001B[38;5;28msuper\u001B[39m()\u001B[38;5;241m.\u001B[39mgetresponse()\n\u001B[0;32m    466\u001B[0m \u001B[38;5;28;01mtry\u001B[39;00m:\n",
      "File \u001B[1;32m~\\anaconda3\\Lib\\http\\client.py:1428\u001B[0m, in \u001B[0;36mHTTPConnection.getresponse\u001B[1;34m(self)\u001B[0m\n\u001B[0;32m   1427\u001B[0m \u001B[38;5;28;01mtry\u001B[39;00m:\n\u001B[1;32m-> 1428\u001B[0m     response\u001B[38;5;241m.\u001B[39mbegin()\n\u001B[0;32m   1429\u001B[0m \u001B[38;5;28;01mexcept\u001B[39;00m \u001B[38;5;167;01mConnectionError\u001B[39;00m:\n",
      "File \u001B[1;32m~\\anaconda3\\Lib\\http\\client.py:331\u001B[0m, in \u001B[0;36mHTTPResponse.begin\u001B[1;34m(self)\u001B[0m\n\u001B[0;32m    330\u001B[0m \u001B[38;5;28;01mwhile\u001B[39;00m \u001B[38;5;28;01mTrue\u001B[39;00m:\n\u001B[1;32m--> 331\u001B[0m     version, status, reason \u001B[38;5;241m=\u001B[39m \u001B[38;5;28mself\u001B[39m\u001B[38;5;241m.\u001B[39m_read_status()\n\u001B[0;32m    332\u001B[0m     \u001B[38;5;28;01mif\u001B[39;00m status \u001B[38;5;241m!=\u001B[39m CONTINUE:\n",
      "File \u001B[1;32m~\\anaconda3\\Lib\\http\\client.py:300\u001B[0m, in \u001B[0;36mHTTPResponse._read_status\u001B[1;34m(self)\u001B[0m\n\u001B[0;32m    297\u001B[0m \u001B[38;5;28;01mif\u001B[39;00m \u001B[38;5;129;01mnot\u001B[39;00m line:\n\u001B[0;32m    298\u001B[0m     \u001B[38;5;66;03m# Presumably, the server closed the connection before\u001B[39;00m\n\u001B[0;32m    299\u001B[0m     \u001B[38;5;66;03m# sending a valid response.\u001B[39;00m\n\u001B[1;32m--> 300\u001B[0m     \u001B[38;5;28;01mraise\u001B[39;00m RemoteDisconnected(\u001B[38;5;124m\"\u001B[39m\u001B[38;5;124mRemote end closed connection without\u001B[39m\u001B[38;5;124m\"\u001B[39m\n\u001B[0;32m    301\u001B[0m                              \u001B[38;5;124m\"\u001B[39m\u001B[38;5;124m response\u001B[39m\u001B[38;5;124m\"\u001B[39m)\n\u001B[0;32m    302\u001B[0m \u001B[38;5;28;01mtry\u001B[39;00m:\n",
      "\u001B[1;31mRemoteDisconnected\u001B[0m: Remote end closed connection without response",
      "\nDuring handling of the above exception, another exception occurred:\n",
      "\u001B[1;31mProtocolError\u001B[0m                             Traceback (most recent call last)",
      "File \u001B[1;32m~\\anaconda3\\Lib\\site-packages\\requests\\adapters.py:589\u001B[0m, in \u001B[0;36mHTTPAdapter.send\u001B[1;34m(self, request, stream, timeout, verify, cert, proxies)\u001B[0m\n\u001B[0;32m    588\u001B[0m \u001B[38;5;28;01mtry\u001B[39;00m:\n\u001B[1;32m--> 589\u001B[0m     resp \u001B[38;5;241m=\u001B[39m conn\u001B[38;5;241m.\u001B[39murlopen(\n\u001B[0;32m    590\u001B[0m         method\u001B[38;5;241m=\u001B[39mrequest\u001B[38;5;241m.\u001B[39mmethod,\n\u001B[0;32m    591\u001B[0m         url\u001B[38;5;241m=\u001B[39murl,\n\u001B[0;32m    592\u001B[0m         body\u001B[38;5;241m=\u001B[39mrequest\u001B[38;5;241m.\u001B[39mbody,\n\u001B[0;32m    593\u001B[0m         headers\u001B[38;5;241m=\u001B[39mrequest\u001B[38;5;241m.\u001B[39mheaders,\n\u001B[0;32m    594\u001B[0m         redirect\u001B[38;5;241m=\u001B[39m\u001B[38;5;28;01mFalse\u001B[39;00m,\n\u001B[0;32m    595\u001B[0m         assert_same_host\u001B[38;5;241m=\u001B[39m\u001B[38;5;28;01mFalse\u001B[39;00m,\n\u001B[0;32m    596\u001B[0m         preload_content\u001B[38;5;241m=\u001B[39m\u001B[38;5;28;01mFalse\u001B[39;00m,\n\u001B[0;32m    597\u001B[0m         decode_content\u001B[38;5;241m=\u001B[39m\u001B[38;5;28;01mFalse\u001B[39;00m,\n\u001B[0;32m    598\u001B[0m         retries\u001B[38;5;241m=\u001B[39m\u001B[38;5;28mself\u001B[39m\u001B[38;5;241m.\u001B[39mmax_retries,\n\u001B[0;32m    599\u001B[0m         timeout\u001B[38;5;241m=\u001B[39mtimeout,\n\u001B[0;32m    600\u001B[0m         chunked\u001B[38;5;241m=\u001B[39mchunked,\n\u001B[0;32m    601\u001B[0m     )\n\u001B[0;32m    603\u001B[0m \u001B[38;5;28;01mexcept\u001B[39;00m (ProtocolError, \u001B[38;5;167;01mOSError\u001B[39;00m) \u001B[38;5;28;01mas\u001B[39;00m err:\n",
      "File \u001B[1;32m~\\anaconda3\\Lib\\site-packages\\urllib3\\connectionpool.py:843\u001B[0m, in \u001B[0;36mHTTPConnectionPool.urlopen\u001B[1;34m(self, method, url, body, headers, retries, redirect, assert_same_host, timeout, pool_timeout, release_conn, chunked, body_pos, preload_content, decode_content, **response_kw)\u001B[0m\n\u001B[0;32m    841\u001B[0m     new_e \u001B[38;5;241m=\u001B[39m ProtocolError(\u001B[38;5;124m\"\u001B[39m\u001B[38;5;124mConnection aborted.\u001B[39m\u001B[38;5;124m\"\u001B[39m, new_e)\n\u001B[1;32m--> 843\u001B[0m retries \u001B[38;5;241m=\u001B[39m retries\u001B[38;5;241m.\u001B[39mincrement(\n\u001B[0;32m    844\u001B[0m     method, url, error\u001B[38;5;241m=\u001B[39mnew_e, _pool\u001B[38;5;241m=\u001B[39m\u001B[38;5;28mself\u001B[39m, _stacktrace\u001B[38;5;241m=\u001B[39msys\u001B[38;5;241m.\u001B[39mexc_info()[\u001B[38;5;241m2\u001B[39m]\n\u001B[0;32m    845\u001B[0m )\n\u001B[0;32m    846\u001B[0m retries\u001B[38;5;241m.\u001B[39msleep()\n",
      "File \u001B[1;32m~\\anaconda3\\Lib\\site-packages\\urllib3\\util\\retry.py:474\u001B[0m, in \u001B[0;36mRetry.increment\u001B[1;34m(self, method, url, response, error, _pool, _stacktrace)\u001B[0m\n\u001B[0;32m    473\u001B[0m \u001B[38;5;28;01mif\u001B[39;00m read \u001B[38;5;129;01mis\u001B[39;00m \u001B[38;5;28;01mFalse\u001B[39;00m \u001B[38;5;129;01mor\u001B[39;00m method \u001B[38;5;129;01mis\u001B[39;00m \u001B[38;5;28;01mNone\u001B[39;00m \u001B[38;5;129;01mor\u001B[39;00m \u001B[38;5;129;01mnot\u001B[39;00m \u001B[38;5;28mself\u001B[39m\u001B[38;5;241m.\u001B[39m_is_method_retryable(method):\n\u001B[1;32m--> 474\u001B[0m     \u001B[38;5;28;01mraise\u001B[39;00m reraise(\u001B[38;5;28mtype\u001B[39m(error), error, _stacktrace)\n\u001B[0;32m    475\u001B[0m \u001B[38;5;28;01melif\u001B[39;00m read \u001B[38;5;129;01mis\u001B[39;00m \u001B[38;5;129;01mnot\u001B[39;00m \u001B[38;5;28;01mNone\u001B[39;00m:\n",
      "File \u001B[1;32m~\\anaconda3\\Lib\\site-packages\\urllib3\\util\\util.py:38\u001B[0m, in \u001B[0;36mreraise\u001B[1;34m(tp, value, tb)\u001B[0m\n\u001B[0;32m     37\u001B[0m \u001B[38;5;28;01mif\u001B[39;00m value\u001B[38;5;241m.\u001B[39m__traceback__ \u001B[38;5;129;01mis\u001B[39;00m \u001B[38;5;129;01mnot\u001B[39;00m tb:\n\u001B[1;32m---> 38\u001B[0m     \u001B[38;5;28;01mraise\u001B[39;00m value\u001B[38;5;241m.\u001B[39mwith_traceback(tb)\n\u001B[0;32m     39\u001B[0m \u001B[38;5;28;01mraise\u001B[39;00m value\n",
      "File \u001B[1;32m~\\anaconda3\\Lib\\site-packages\\urllib3\\connectionpool.py:789\u001B[0m, in \u001B[0;36mHTTPConnectionPool.urlopen\u001B[1;34m(self, method, url, body, headers, retries, redirect, assert_same_host, timeout, pool_timeout, release_conn, chunked, body_pos, preload_content, decode_content, **response_kw)\u001B[0m\n\u001B[0;32m    788\u001B[0m \u001B[38;5;66;03m# Make the request on the HTTPConnection object\u001B[39;00m\n\u001B[1;32m--> 789\u001B[0m response \u001B[38;5;241m=\u001B[39m \u001B[38;5;28mself\u001B[39m\u001B[38;5;241m.\u001B[39m_make_request(\n\u001B[0;32m    790\u001B[0m     conn,\n\u001B[0;32m    791\u001B[0m     method,\n\u001B[0;32m    792\u001B[0m     url,\n\u001B[0;32m    793\u001B[0m     timeout\u001B[38;5;241m=\u001B[39mtimeout_obj,\n\u001B[0;32m    794\u001B[0m     body\u001B[38;5;241m=\u001B[39mbody,\n\u001B[0;32m    795\u001B[0m     headers\u001B[38;5;241m=\u001B[39mheaders,\n\u001B[0;32m    796\u001B[0m     chunked\u001B[38;5;241m=\u001B[39mchunked,\n\u001B[0;32m    797\u001B[0m     retries\u001B[38;5;241m=\u001B[39mretries,\n\u001B[0;32m    798\u001B[0m     response_conn\u001B[38;5;241m=\u001B[39mresponse_conn,\n\u001B[0;32m    799\u001B[0m     preload_content\u001B[38;5;241m=\u001B[39mpreload_content,\n\u001B[0;32m    800\u001B[0m     decode_content\u001B[38;5;241m=\u001B[39mdecode_content,\n\u001B[0;32m    801\u001B[0m     \u001B[38;5;241m*\u001B[39m\u001B[38;5;241m*\u001B[39mresponse_kw,\n\u001B[0;32m    802\u001B[0m )\n\u001B[0;32m    804\u001B[0m \u001B[38;5;66;03m# Everything went great!\u001B[39;00m\n",
      "File \u001B[1;32m~\\anaconda3\\Lib\\site-packages\\urllib3\\connectionpool.py:536\u001B[0m, in \u001B[0;36mHTTPConnectionPool._make_request\u001B[1;34m(self, conn, method, url, body, headers, retries, timeout, chunked, response_conn, preload_content, decode_content, enforce_content_length)\u001B[0m\n\u001B[0;32m    535\u001B[0m \u001B[38;5;28;01mtry\u001B[39;00m:\n\u001B[1;32m--> 536\u001B[0m     response \u001B[38;5;241m=\u001B[39m conn\u001B[38;5;241m.\u001B[39mgetresponse()\n\u001B[0;32m    537\u001B[0m \u001B[38;5;28;01mexcept\u001B[39;00m (BaseSSLError, \u001B[38;5;167;01mOSError\u001B[39;00m) \u001B[38;5;28;01mas\u001B[39;00m e:\n",
      "File \u001B[1;32m~\\anaconda3\\Lib\\site-packages\\urllib3\\connection.py:464\u001B[0m, in \u001B[0;36mHTTPConnection.getresponse\u001B[1;34m(self)\u001B[0m\n\u001B[0;32m    463\u001B[0m \u001B[38;5;66;03m# Get the response from http.client.HTTPConnection\u001B[39;00m\n\u001B[1;32m--> 464\u001B[0m httplib_response \u001B[38;5;241m=\u001B[39m \u001B[38;5;28msuper\u001B[39m()\u001B[38;5;241m.\u001B[39mgetresponse()\n\u001B[0;32m    466\u001B[0m \u001B[38;5;28;01mtry\u001B[39;00m:\n",
      "File \u001B[1;32m~\\anaconda3\\Lib\\http\\client.py:1428\u001B[0m, in \u001B[0;36mHTTPConnection.getresponse\u001B[1;34m(self)\u001B[0m\n\u001B[0;32m   1427\u001B[0m \u001B[38;5;28;01mtry\u001B[39;00m:\n\u001B[1;32m-> 1428\u001B[0m     response\u001B[38;5;241m.\u001B[39mbegin()\n\u001B[0;32m   1429\u001B[0m \u001B[38;5;28;01mexcept\u001B[39;00m \u001B[38;5;167;01mConnectionError\u001B[39;00m:\n",
      "File \u001B[1;32m~\\anaconda3\\Lib\\http\\client.py:331\u001B[0m, in \u001B[0;36mHTTPResponse.begin\u001B[1;34m(self)\u001B[0m\n\u001B[0;32m    330\u001B[0m \u001B[38;5;28;01mwhile\u001B[39;00m \u001B[38;5;28;01mTrue\u001B[39;00m:\n\u001B[1;32m--> 331\u001B[0m     version, status, reason \u001B[38;5;241m=\u001B[39m \u001B[38;5;28mself\u001B[39m\u001B[38;5;241m.\u001B[39m_read_status()\n\u001B[0;32m    332\u001B[0m     \u001B[38;5;28;01mif\u001B[39;00m status \u001B[38;5;241m!=\u001B[39m CONTINUE:\n",
      "File \u001B[1;32m~\\anaconda3\\Lib\\http\\client.py:300\u001B[0m, in \u001B[0;36mHTTPResponse._read_status\u001B[1;34m(self)\u001B[0m\n\u001B[0;32m    297\u001B[0m \u001B[38;5;28;01mif\u001B[39;00m \u001B[38;5;129;01mnot\u001B[39;00m line:\n\u001B[0;32m    298\u001B[0m     \u001B[38;5;66;03m# Presumably, the server closed the connection before\u001B[39;00m\n\u001B[0;32m    299\u001B[0m     \u001B[38;5;66;03m# sending a valid response.\u001B[39;00m\n\u001B[1;32m--> 300\u001B[0m     \u001B[38;5;28;01mraise\u001B[39;00m RemoteDisconnected(\u001B[38;5;124m\"\u001B[39m\u001B[38;5;124mRemote end closed connection without\u001B[39m\u001B[38;5;124m\"\u001B[39m\n\u001B[0;32m    301\u001B[0m                              \u001B[38;5;124m\"\u001B[39m\u001B[38;5;124m response\u001B[39m\u001B[38;5;124m\"\u001B[39m)\n\u001B[0;32m    302\u001B[0m \u001B[38;5;28;01mtry\u001B[39;00m:\n",
      "\u001B[1;31mProtocolError\u001B[0m: ('Connection aborted.', RemoteDisconnected('Remote end closed connection without response'))",
      "\nDuring handling of the above exception, another exception occurred:\n",
      "\u001B[1;31mConnectionError\u001B[0m                           Traceback (most recent call last)",
      "Cell \u001B[1;32mIn[192], line 2\u001B[0m\n\u001B[0;32m      1\u001B[0m \u001B[38;5;28;01mfor\u001B[39;00m i \u001B[38;5;129;01min\u001B[39;00m testvec:\n\u001B[1;32m----> 2\u001B[0m     l, songid \u001B[38;5;241m=\u001B[39m get_explicit_label(song_data[\u001B[38;5;124m'\u001B[39m\u001B[38;5;124martist\u001B[39m\u001B[38;5;124m'\u001B[39m][i], song_data[\u001B[38;5;124m'\u001B[39m\u001B[38;5;124msong\u001B[39m\u001B[38;5;124m'\u001B[39m][i])\n\u001B[0;32m      3\u001B[0m     \u001B[38;5;66;03m#print(i)\u001B[39;00m\n\u001B[0;32m      4\u001B[0m     \u001B[38;5;28;01mif\u001B[39;00m (songid \u001B[38;5;241m==\u001B[39m song_data[\u001B[38;5;124m'\u001B[39m\u001B[38;5;124mid\u001B[39m\u001B[38;5;124m'\u001B[39m][i]):\n",
      "Cell \u001B[1;32mIn[182], line 3\u001B[0m, in \u001B[0;36mget_explicit_label\u001B[1;34m(artist, song)\u001B[0m\n\u001B[0;32m      1\u001B[0m \u001B[38;5;28;01mdef\u001B[39;00m \u001B[38;5;21mget_explicit_label\u001B[39m(artist, song):\n\u001B[0;32m      2\u001B[0m     \u001B[38;5;28;01mtry\u001B[39;00m:\n\u001B[1;32m----> 3\u001B[0m         results \u001B[38;5;241m=\u001B[39m sp\u001B[38;5;241m.\u001B[39msearch(q\u001B[38;5;241m=\u001B[39m\u001B[38;5;124m\"\u001B[39m\u001B[38;5;124martist:\u001B[39m\u001B[38;5;124m\"\u001B[39m \u001B[38;5;241m+\u001B[39m artist \u001B[38;5;241m+\u001B[39m \u001B[38;5;124m\"\u001B[39m\u001B[38;5;124m track:\u001B[39m\u001B[38;5;124m\"\u001B[39m \u001B[38;5;241m+\u001B[39m song, \u001B[38;5;28mtype\u001B[39m\u001B[38;5;241m=\u001B[39m\u001B[38;5;124m'\u001B[39m\u001B[38;5;124mtrack\u001B[39m\u001B[38;5;124m'\u001B[39m, limit\u001B[38;5;241m=\u001B[39m\u001B[38;5;241m3\u001B[39m)\n\u001B[0;32m      4\u001B[0m     \u001B[38;5;28;01mexcept\u001B[39;00m requests\u001B[38;5;241m.\u001B[39mexceptions\u001B[38;5;241m.\u001B[39mHTTPError \u001B[38;5;28;01mas\u001B[39;00m e:\n\u001B[0;32m      5\u001B[0m         \u001B[38;5;28;01mif\u001B[39;00m e\u001B[38;5;241m.\u001B[39mresponse\u001B[38;5;241m.\u001B[39mstatus_code \u001B[38;5;241m==\u001B[39m \u001B[38;5;241m429\u001B[39m:\n",
      "File \u001B[1;32m~\\anaconda3\\Lib\\site-packages\\spotipy\\client.py:602\u001B[0m, in \u001B[0;36mSpotify.search\u001B[1;34m(self, q, limit, offset, type, market)\u001B[0m\n\u001B[0;32m    587\u001B[0m \u001B[38;5;28;01mdef\u001B[39;00m \u001B[38;5;21msearch\u001B[39m(\u001B[38;5;28mself\u001B[39m, q, limit\u001B[38;5;241m=\u001B[39m\u001B[38;5;241m10\u001B[39m, offset\u001B[38;5;241m=\u001B[39m\u001B[38;5;241m0\u001B[39m, \u001B[38;5;28mtype\u001B[39m\u001B[38;5;241m=\u001B[39m\u001B[38;5;124m\"\u001B[39m\u001B[38;5;124mtrack\u001B[39m\u001B[38;5;124m\"\u001B[39m, market\u001B[38;5;241m=\u001B[39m\u001B[38;5;28;01mNone\u001B[39;00m):\n\u001B[0;32m    588\u001B[0m \u001B[38;5;250m    \u001B[39m\u001B[38;5;124;03m\"\"\" searches for an item\u001B[39;00m\n\u001B[0;32m    589\u001B[0m \n\u001B[0;32m    590\u001B[0m \u001B[38;5;124;03m        Parameters:\u001B[39;00m\n\u001B[1;32m   (...)\u001B[0m\n\u001B[0;32m    600\u001B[0m \u001B[38;5;124;03m                       from_token.\u001B[39;00m\n\u001B[0;32m    601\u001B[0m \u001B[38;5;124;03m    \"\"\"\u001B[39;00m\n\u001B[1;32m--> 602\u001B[0m     \u001B[38;5;28;01mreturn\u001B[39;00m \u001B[38;5;28mself\u001B[39m\u001B[38;5;241m.\u001B[39m_get(\n\u001B[0;32m    603\u001B[0m         \u001B[38;5;124m\"\u001B[39m\u001B[38;5;124msearch\u001B[39m\u001B[38;5;124m\"\u001B[39m, q\u001B[38;5;241m=\u001B[39mq, limit\u001B[38;5;241m=\u001B[39mlimit, offset\u001B[38;5;241m=\u001B[39moffset, \u001B[38;5;28mtype\u001B[39m\u001B[38;5;241m=\u001B[39m\u001B[38;5;28mtype\u001B[39m, market\u001B[38;5;241m=\u001B[39mmarket\n\u001B[0;32m    604\u001B[0m     )\n",
      "File \u001B[1;32m~\\anaconda3\\Lib\\site-packages\\spotipy\\client.py:327\u001B[0m, in \u001B[0;36mSpotify._get\u001B[1;34m(self, url, args, payload, **kwargs)\u001B[0m\n\u001B[0;32m    324\u001B[0m \u001B[38;5;28;01mif\u001B[39;00m args:\n\u001B[0;32m    325\u001B[0m     kwargs\u001B[38;5;241m.\u001B[39mupdate(args)\n\u001B[1;32m--> 327\u001B[0m \u001B[38;5;28;01mreturn\u001B[39;00m \u001B[38;5;28mself\u001B[39m\u001B[38;5;241m.\u001B[39m_internal_call(\u001B[38;5;124m\"\u001B[39m\u001B[38;5;124mGET\u001B[39m\u001B[38;5;124m\"\u001B[39m, url, payload, kwargs)\n",
      "File \u001B[1;32m~\\anaconda3\\Lib\\site-packages\\spotipy\\client.py:270\u001B[0m, in \u001B[0;36mSpotify._internal_call\u001B[1;34m(self, method, url, payload, params)\u001B[0m\n\u001B[0;32m    266\u001B[0m logger\u001B[38;5;241m.\u001B[39mdebug(\u001B[38;5;124m'\u001B[39m\u001B[38;5;124mSending \u001B[39m\u001B[38;5;132;01m%s\u001B[39;00m\u001B[38;5;124m to \u001B[39m\u001B[38;5;132;01m%s\u001B[39;00m\u001B[38;5;124m with Params: \u001B[39m\u001B[38;5;132;01m%s\u001B[39;00m\u001B[38;5;124m Headers: \u001B[39m\u001B[38;5;132;01m%s\u001B[39;00m\u001B[38;5;124m and Body: \u001B[39m\u001B[38;5;132;01m%r\u001B[39;00m\u001B[38;5;124m \u001B[39m\u001B[38;5;124m'\u001B[39m,\n\u001B[0;32m    267\u001B[0m              method, url, args\u001B[38;5;241m.\u001B[39mget(\u001B[38;5;124m\"\u001B[39m\u001B[38;5;124mparams\u001B[39m\u001B[38;5;124m\"\u001B[39m), headers, args\u001B[38;5;241m.\u001B[39mget(\u001B[38;5;124m'\u001B[39m\u001B[38;5;124mdata\u001B[39m\u001B[38;5;124m'\u001B[39m))\n\u001B[0;32m    269\u001B[0m \u001B[38;5;28;01mtry\u001B[39;00m:\n\u001B[1;32m--> 270\u001B[0m     response \u001B[38;5;241m=\u001B[39m \u001B[38;5;28mself\u001B[39m\u001B[38;5;241m.\u001B[39m_session\u001B[38;5;241m.\u001B[39mrequest(\n\u001B[0;32m    271\u001B[0m         method, url, headers\u001B[38;5;241m=\u001B[39mheaders, proxies\u001B[38;5;241m=\u001B[39m\u001B[38;5;28mself\u001B[39m\u001B[38;5;241m.\u001B[39mproxies,\n\u001B[0;32m    272\u001B[0m         timeout\u001B[38;5;241m=\u001B[39m\u001B[38;5;28mself\u001B[39m\u001B[38;5;241m.\u001B[39mrequests_timeout, \u001B[38;5;241m*\u001B[39m\u001B[38;5;241m*\u001B[39margs\n\u001B[0;32m    273\u001B[0m     )\n\u001B[0;32m    275\u001B[0m     response\u001B[38;5;241m.\u001B[39mraise_for_status()\n\u001B[0;32m    276\u001B[0m     results \u001B[38;5;241m=\u001B[39m response\u001B[38;5;241m.\u001B[39mjson()\n",
      "File \u001B[1;32m~\\anaconda3\\Lib\\site-packages\\requests\\sessions.py:589\u001B[0m, in \u001B[0;36mSession.request\u001B[1;34m(self, method, url, params, data, headers, cookies, files, auth, timeout, allow_redirects, proxies, hooks, stream, verify, cert, json)\u001B[0m\n\u001B[0;32m    584\u001B[0m send_kwargs \u001B[38;5;241m=\u001B[39m {\n\u001B[0;32m    585\u001B[0m     \u001B[38;5;124m\"\u001B[39m\u001B[38;5;124mtimeout\u001B[39m\u001B[38;5;124m\"\u001B[39m: timeout,\n\u001B[0;32m    586\u001B[0m     \u001B[38;5;124m\"\u001B[39m\u001B[38;5;124mallow_redirects\u001B[39m\u001B[38;5;124m\"\u001B[39m: allow_redirects,\n\u001B[0;32m    587\u001B[0m }\n\u001B[0;32m    588\u001B[0m send_kwargs\u001B[38;5;241m.\u001B[39mupdate(settings)\n\u001B[1;32m--> 589\u001B[0m resp \u001B[38;5;241m=\u001B[39m \u001B[38;5;28mself\u001B[39m\u001B[38;5;241m.\u001B[39msend(prep, \u001B[38;5;241m*\u001B[39m\u001B[38;5;241m*\u001B[39msend_kwargs)\n\u001B[0;32m    591\u001B[0m \u001B[38;5;28;01mreturn\u001B[39;00m resp\n",
      "File \u001B[1;32m~\\anaconda3\\Lib\\site-packages\\requests\\sessions.py:703\u001B[0m, in \u001B[0;36mSession.send\u001B[1;34m(self, request, **kwargs)\u001B[0m\n\u001B[0;32m    700\u001B[0m start \u001B[38;5;241m=\u001B[39m preferred_clock()\n\u001B[0;32m    702\u001B[0m \u001B[38;5;66;03m# Send the request\u001B[39;00m\n\u001B[1;32m--> 703\u001B[0m r \u001B[38;5;241m=\u001B[39m adapter\u001B[38;5;241m.\u001B[39msend(request, \u001B[38;5;241m*\u001B[39m\u001B[38;5;241m*\u001B[39mkwargs)\n\u001B[0;32m    705\u001B[0m \u001B[38;5;66;03m# Total elapsed time of the request (approximately)\u001B[39;00m\n\u001B[0;32m    706\u001B[0m elapsed \u001B[38;5;241m=\u001B[39m preferred_clock() \u001B[38;5;241m-\u001B[39m start\n",
      "File \u001B[1;32m~\\anaconda3\\Lib\\site-packages\\requests\\adapters.py:604\u001B[0m, in \u001B[0;36mHTTPAdapter.send\u001B[1;34m(self, request, stream, timeout, verify, cert, proxies)\u001B[0m\n\u001B[0;32m    589\u001B[0m     resp \u001B[38;5;241m=\u001B[39m conn\u001B[38;5;241m.\u001B[39murlopen(\n\u001B[0;32m    590\u001B[0m         method\u001B[38;5;241m=\u001B[39mrequest\u001B[38;5;241m.\u001B[39mmethod,\n\u001B[0;32m    591\u001B[0m         url\u001B[38;5;241m=\u001B[39murl,\n\u001B[1;32m   (...)\u001B[0m\n\u001B[0;32m    600\u001B[0m         chunked\u001B[38;5;241m=\u001B[39mchunked,\n\u001B[0;32m    601\u001B[0m     )\n\u001B[0;32m    603\u001B[0m \u001B[38;5;28;01mexcept\u001B[39;00m (ProtocolError, \u001B[38;5;167;01mOSError\u001B[39;00m) \u001B[38;5;28;01mas\u001B[39;00m err:\n\u001B[1;32m--> 604\u001B[0m     \u001B[38;5;28;01mraise\u001B[39;00m \u001B[38;5;167;01mConnectionError\u001B[39;00m(err, request\u001B[38;5;241m=\u001B[39mrequest)\n\u001B[0;32m    606\u001B[0m \u001B[38;5;28;01mexcept\u001B[39;00m MaxRetryError \u001B[38;5;28;01mas\u001B[39;00m e:\n\u001B[0;32m    607\u001B[0m     \u001B[38;5;28;01mif\u001B[39;00m \u001B[38;5;28misinstance\u001B[39m(e\u001B[38;5;241m.\u001B[39mreason, ConnectTimeoutError):\n\u001B[0;32m    608\u001B[0m         \u001B[38;5;66;03m# TODO: Remove this in 3.0.0: see #2811\u001B[39;00m\n",
      "\u001B[1;31mConnectionError\u001B[0m: ('Connection aborted.', RemoteDisconnected('Remote end closed connection without response'))"
     ]
    }
   ],
   "source": [
    "for i in testvec:\n",
    "    l, songid = get_explicit_label(song_data['artist'][i], song_data['song'][i])\n",
    "    #print(i)\n",
    "    if (songid == song_data['id'][i]):\n",
    "        print('good')\n",
    "        #print('good data id actual', songid, 'made', song_data['id'][i])\n",
    "    else:\n",
    "        print('test failed with sample ' + str(i) + '!')\n",
    "        print('actual', l, 'made', song_data['explicit'][i])\n",
    "        print(song_data['song'][i], song_data['artist'][i])\n",
    "        print('actual', songid, 'made', song_data['id'][i])\n",
    "    if (i % 10 == 0):\n",
    "        time.sleep(0.5)\n",
    "        if (i % 100 == 0):\n",
    "            print(\"step\", i)\n",
    "        #list_of_ids.append(songid)"
   ]
  },
  {
   "cell_type": "code",
   "execution_count": 189,
   "id": "c455b2bb-f5fd-4229-99cf-2ddaf1683851",
   "metadata": {},
   "outputs": [],
   "source": [
    "song_data = pd.read_csv(\"output/data/song_ids_0.csv\")"
   ]
  },
  {
   "cell_type": "code",
   "execution_count": 190,
   "id": "dec628e8-9123-44a8-832d-7f321d7db685",
   "metadata": {},
   "outputs": [
    {
     "name": "stdout",
     "output_type": "stream",
     "text": [
      "good\n",
      "test failed with sample 3900!\n",
      "step 3900\n",
      "good\n",
      "good\n",
      "good\n",
      "good\n",
      "good\n"
     ]
    }
   ],
   "source": [
    "for i in testvec:\n",
    "    l, songid = get_explicit_label(song_data['artist'][i], song_data['song'][i])\n",
    "    #print(i)\n",
    "    if (songid == song_data['id'][i]):\n",
    "        print('good')\n",
    "        #print('good data id actual', songid, 'made', song_data['id'][i])\n",
    "    else:\n",
    "        print('test failed with sample ' + str(i) + '!')\n",
    "        #print('actual', l, 'made', song_data['explicit'][i])\n",
    "        #print(song_data['song'][i], song_data['artist'], i)\n",
    "        #print('actual', songid, 'made', song_data['id'][i])\n",
    "    if (i % 10 == 0):\n",
    "        time.sleep(0.5)\n",
    "        if (i % 100 == 0):\n",
    "            print(\"step\", i)\n",
    "        #list_of_ids.append(songid)"
   ]
  },
  {
   "cell_type": "code",
   "execution_count": null,
   "id": "2ea740f9-8a1f-4e78-b699-433693c6fb8f",
   "metadata": {},
   "outputs": [],
   "source": []
  }
 ],
 "metadata": {
  "kernelspec": {
   "display_name": "Python 3 (ipykernel)",
   "language": "python",
   "name": "python3"
  },
  "language_info": {
   "codemirror_mode": {
    "name": "ipython",
    "version": 3
   },
   "file_extension": ".py",
   "mimetype": "text/x-python",
   "name": "python",
   "nbconvert_exporter": "python",
   "pygments_lexer": "ipython3",
   "version": "3.12.4"
  }
 },
 "nbformat": 4,
 "nbformat_minor": 5
}
